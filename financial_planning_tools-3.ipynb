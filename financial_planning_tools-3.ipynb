{
 "cells": [
  {
   "cell_type": "markdown",
   "metadata": {},
   "source": [
    "# Financial Planning with APIs and Simulations\n",
    "\n",
    "In this Challenge, you’ll create two financial analysis tools by using a single Jupyter notebook:\n",
    "\n",
    "Part 1: A financial planner for emergencies. The members will be able to use this tool to visualize their current savings. The members can then determine if they have enough reserves for an emergency fund.\n",
    "\n",
    "Part 2: A financial planner for retirement. This tool will forecast the performance of their retirement portfolio in 30 years. To do this, the tool will make an Alpaca API call via the Alpaca SDK to get historical price data for use in Monte Carlo simulations.\n",
    "\n",
    "You’ll use the information from the Monte Carlo simulation to answer questions about the portfolio in your Jupyter notebook.\n",
    "\n"
   ]
  },
  {
   "cell_type": "code",
   "execution_count": 1,
   "metadata": {},
   "outputs": [],
   "source": [
    "# Import the required libraries and dependencies\n",
    "import os\n",
    "import requests\n",
    "import json\n",
    "import pandas as pd\n",
    "import matplotlib.pyplot as plt\n",
    "from dotenv import load_dotenv\n",
    "import alpaca_trade_api as tradeapi\n",
    "from MCForecastTools import MCSimulation\n",
    "\n",
    "%matplotlib inline"
   ]
  },
  {
   "cell_type": "code",
   "execution_count": 2,
   "metadata": {},
   "outputs": [
    {
     "data": {
      "text/plain": [
       "True"
      ]
     },
     "execution_count": 2,
     "metadata": {},
     "output_type": "execute_result"
    }
   ],
   "source": [
    "# Load the environment variables from the .env file\n",
    "#by calling the load_dotenv function\n",
    "load_dotenv()"
   ]
  },
  {
   "cell_type": "code",
   "execution_count": 3,
   "metadata": {},
   "outputs": [],
   "source": [
    "ALPACA_API_KEY = os.getenv(\"ALPACA_API_KEY\")"
   ]
  },
  {
   "cell_type": "code",
   "execution_count": 4,
   "metadata": {},
   "outputs": [],
   "source": [
    "ALPACA_SECRET_KEY = os.getenv(\"ALPACA_SECRET_KEY\")"
   ]
  },
  {
   "cell_type": "code",
   "execution_count": 5,
   "metadata": {},
   "outputs": [
    {
     "data": {
      "text/plain": [
       "str"
      ]
     },
     "execution_count": 5,
     "metadata": {},
     "output_type": "execute_result"
    }
   ],
   "source": [
    "type(ALPACA_API_KEY)"
   ]
  },
  {
   "cell_type": "code",
   "execution_count": 6,
   "metadata": {},
   "outputs": [
    {
     "data": {
      "text/plain": [
       "str"
      ]
     },
     "execution_count": 6,
     "metadata": {},
     "output_type": "execute_result"
    }
   ],
   "source": [
    "type(ALPACA_SECRET_KEY)"
   ]
  },
  {
   "cell_type": "code",
   "execution_count": null,
   "metadata": {},
   "outputs": [],
   "source": []
  },
  {
   "cell_type": "markdown",
   "metadata": {},
   "source": [
    "## Part 1: Create a Financial Planner for Emergencies"
   ]
  },
  {
   "cell_type": "markdown",
   "metadata": {},
   "source": [
    "### Evaluate the Cryptocurrency Wallet by Using the Requests Library\n",
    "\n",
    "In this section, you’ll determine the current value of a member’s cryptocurrency wallet. You’ll collect the current prices for the Bitcoin and Ethereum cryptocurrencies by using the Python Requests library. For the prototype, you’ll assume that the member holds the 1.2 Bitcoins (BTC) and 5.3 Ethereum coins (ETH). To do all this, complete the following steps:\n",
    "\n",
    "1. Create a variable named `monthly_income`, and set its value to `12000`.\n",
    "\n",
    "2. Use the Requests library to get the current price (in US dollars) of Bitcoin (BTC) and Ethereum (ETH) by using the API endpoints that the starter code supplies.\n",
    "\n",
    "3. Navigate the JSON response object to access the current price of each coin, and store each in a variable.\n",
    "\n",
    "    > **Hint** Note the specific identifier for each cryptocurrency in the API JSON response. The Bitcoin identifier is `1`, and the Ethereum identifier is `1027`.\n",
    "\n",
    "4. Calculate the value, in US dollars, of the current amount of each cryptocurrency and of the entire cryptocurrency wallet.\n",
    "\n"
   ]
  },
  {
   "cell_type": "code",
   "execution_count": 7,
   "metadata": {},
   "outputs": [],
   "source": [
    "# The current number of coins for each cryptocurrency asset held in the portfolio.\n",
    "btc_coins = 1.2\n",
    "eth_coins = 5.3"
   ]
  },
  {
   "cell_type": "markdown",
   "metadata": {},
   "source": [
    "#### Step 1: Create a variable named `monthly_income`, and set its value to `12000`."
   ]
  },
  {
   "cell_type": "code",
   "execution_count": 8,
   "metadata": {},
   "outputs": [],
   "source": [
    "# The monthly amount for the member's household income\n",
    "monthly_income = 12_000\n"
   ]
  },
  {
   "cell_type": "markdown",
   "metadata": {},
   "source": [
    "#### Review the endpoint URLs for the API calls to Free Crypto API in order to get the current pricing information for both BTC and ETH."
   ]
  },
  {
   "cell_type": "code",
   "execution_count": 9,
   "metadata": {},
   "outputs": [],
   "source": [
    "# The Free Crypto API Call endpoint URLs for the held cryptocurrency assets\n",
    "btc_url = \"https://api.alternative.me/v2/ticker/Bitcoin/?convert=USD\"\n",
    "eth_url = \"https://api.alternative.me/v2/ticker/Ethereum/?convert=USD\""
   ]
  },
  {
   "cell_type": "markdown",
   "metadata": {},
   "source": [
    "#### Step 2. Use the Requests library to get the current price (in US dollars) of Bitcoin (BTC) and Ethereum (ETH) by using the API endpoints that the starter code supplied."
   ]
  },
  {
   "cell_type": "code",
   "execution_count": 10,
   "metadata": {},
   "outputs": [
    {
     "name": "stdout",
     "output_type": "stream",
     "text": [
      "{\n",
      "    \"data\": {\n",
      "        \"1\": {\n",
      "            \"circulating_supply\": 18867843,\n",
      "            \"id\": 1,\n",
      "            \"last_updated\": 1636426139,\n",
      "            \"max_supply\": 21000000,\n",
      "            \"name\": \"Bitcoin\",\n",
      "            \"quotes\": {\n",
      "                \"USD\": {\n",
      "                    \"market_cap\": 1278473743632,\n",
      "                    \"percent_change_1h\": 0.0202352882625544,\n",
      "                    \"percent_change_24h\": 3.70736349713358,\n",
      "                    \"percent_change_7d\": 10.8409016143203,\n",
      "                    \"percentage_change_1h\": 0.0202352882625544,\n",
      "                    \"percentage_change_24h\": 3.70736349713358,\n",
      "                    \"percentage_change_7d\": 10.8409016143203,\n",
      "                    \"price\": 67748.0,\n",
      "                    \"volume_24h\": 110650390834\n",
      "                }\n",
      "            },\n",
      "            \"rank\": 1,\n",
      "            \"symbol\": \"BTC\",\n",
      "            \"total_supply\": 18867843,\n",
      "            \"website_slug\": \"bitcoin\"\n",
      "        }\n",
      "    },\n",
      "    \"metadata\": {\n",
      "        \"error\": null,\n",
      "        \"num_cryptocurrencies\": 3105,\n",
      "        \"timestamp\": 1636426139\n",
      "    }\n",
      "}\n"
     ]
    }
   ],
   "source": [
    "# Using the Python requests library, make an API call to access the current price of BTC\n",
    "btc_response = requests.get(btc_url).json()\n",
    "\n",
    "print(json.dumps(btc_response, indent=4, sort_keys=True))\n",
    "\n",
    "# Use the json.dumps function to review the response data from the API call\n",
    "# Use the indent and sort_keys parameters to make the response object readable\n",
    "\n"
   ]
  },
  {
   "cell_type": "code",
   "execution_count": 11,
   "metadata": {},
   "outputs": [
    {
     "name": "stdout",
     "output_type": "stream",
     "text": [
      "{\n",
      "    \"data\": {\n",
      "        \"1027\": {\n",
      "            \"circulating_supply\": 118266026,\n",
      "            \"id\": 1027,\n",
      "            \"last_updated\": 1636426122,\n",
      "            \"max_supply\": 0,\n",
      "            \"name\": \"Ethereum\",\n",
      "            \"quotes\": {\n",
      "                \"USD\": {\n",
      "                    \"market_cap\": 568688142992,\n",
      "                    \"percent_change_1h\": 0.127405408139776,\n",
      "                    \"percent_change_24h\": 1.9897717496793,\n",
      "                    \"percent_change_7d\": 11.0252472823309,\n",
      "                    \"percentage_change_1h\": 0.127405408139776,\n",
      "                    \"percentage_change_24h\": 1.9897717496793,\n",
      "                    \"percentage_change_7d\": 11.0252472823309,\n",
      "                    \"price\": 4808.01,\n",
      "                    \"volume_24h\": 19538526973\n",
      "                }\n",
      "            },\n",
      "            \"rank\": 2,\n",
      "            \"symbol\": \"ETH\",\n",
      "            \"total_supply\": 118266026,\n",
      "            \"website_slug\": \"ethereum\"\n",
      "        }\n",
      "    },\n",
      "    \"metadata\": {\n",
      "        \"error\": null,\n",
      "        \"num_cryptocurrencies\": 3105,\n",
      "        \"timestamp\": 1636426122\n",
      "    }\n",
      "}\n"
     ]
    }
   ],
   "source": [
    "# Using the Python requests library, make an API call to access the current price ETH\n",
    "eth_response = requests.get(eth_url).json()\n",
    "print(json.dumps(eth_response, indent=4, sort_keys=True))\n",
    "# Use the json.dumps function to review the response data from the API call\n",
    "# Use the indent and sort_keys parameters to make the response object readable\n",
    "# YOUR CODE HERE\n"
   ]
  },
  {
   "cell_type": "markdown",
   "metadata": {},
   "source": [
    "#### Step 3: Navigate the JSON response object to access the current price of each coin, and store each in a variable."
   ]
  },
  {
   "cell_type": "code",
   "execution_count": 12,
   "metadata": {},
   "outputs": [
    {
     "name": "stdout",
     "output_type": "stream",
     "text": [
      "67748.0\n"
     ]
    }
   ],
   "source": [
    "# Navigate the BTC response object to access the current price of BTC\n",
    "btc_price = btc_response[\"data\"][\"1\"][\"quotes\"][\"USD\"][\"price\"]\n",
    "\n",
    "# Print the current price of BTC\n",
    "print(btc_price)\n"
   ]
  },
  {
   "cell_type": "code",
   "execution_count": 13,
   "metadata": {},
   "outputs": [
    {
     "name": "stdout",
     "output_type": "stream",
     "text": [
      "4808.01\n"
     ]
    }
   ],
   "source": [
    "# Navigate the BTC response object to access the current price of ETH\n",
    "eth_price = eth_response[\"data\"][\"1027\"][\"quotes\"][\"USD\"][\"price\"]\n",
    "\n",
    "# Print the current price of ETH\n",
    "print(eth_price)\n"
   ]
  },
  {
   "cell_type": "markdown",
   "metadata": {},
   "source": [
    "### Step 4: Calculate the value, in US dollars, of the current amount of each cryptocurrency and of the entire cryptocurrency wallet."
   ]
  },
  {
   "cell_type": "code",
   "execution_count": 14,
   "metadata": {},
   "outputs": [
    {
     "name": "stdout",
     "output_type": "stream",
     "text": [
      "81297.59999999999\n"
     ]
    }
   ],
   "source": [
    "# Compute the current value of the BTC holding \n",
    "btc_value = btc_coins * btc_price\n",
    "\n",
    "# Print current value of your holding in BTC\n",
    "print(btc_value)\n"
   ]
  },
  {
   "cell_type": "code",
   "execution_count": 15,
   "metadata": {},
   "outputs": [
    {
     "name": "stdout",
     "output_type": "stream",
     "text": [
      "25482.453\n"
     ]
    }
   ],
   "source": [
    "# Compute the current value of the ETH holding \n",
    "eth_value = eth_coins * eth_price\n",
    "\n",
    "# Print current value of your holding in ETH\n",
    "print(eth_value)\n"
   ]
  },
  {
   "cell_type": "code",
   "execution_count": 16,
   "metadata": {},
   "outputs": [
    {
     "name": "stdout",
     "output_type": "stream",
     "text": [
      "106780.05299999999\n"
     ]
    }
   ],
   "source": [
    "# Compute the total value of the cryptocurrency wallet\n",
    "# Add the value of the BTC holding to the value of the ETH holding\n",
    "total_crypto_wallet = eth_value + btc_value\n",
    "\n",
    "# Print current cryptocurrency wallet balance\n",
    "print(total_crypto_wallet)\n"
   ]
  },
  {
   "cell_type": "markdown",
   "metadata": {},
   "source": [
    "### Evaluate the Stock and Bond Holdings by Using the Alpaca SDK\n",
    "\n",
    "In this section, you’ll determine the current value of a member’s stock and bond holdings. You’ll make an API call to Alpaca via the Alpaca SDK to get the current closing prices of the SPDR S&P 500 ETF Trust (ticker: SPY) and of the iShares Core US Aggregate Bond ETF (ticker: AGG). For the prototype, assume that the member holds 110 shares of SPY, which represents the stock portion of their portfolio, and 200 shares of AGG, which represents the bond portion. To do all this, complete the following steps:\n",
    "\n",
    "1. In the `Starter_Code` folder, create an environment file (`.env`) to store the values of your Alpaca API key and Alpaca secret key.\n",
    "\n",
    "2. Set the variables for the Alpaca API and secret keys. Using the Alpaca SDK, create the Alpaca `tradeapi.REST` object. In this object, include the parameters for the Alpaca API key, the secret key, and the version number.\n",
    "\n",
    "3. Set the following parameters for the Alpaca API call:\n",
    "\n",
    "    - `tickers`: Use the tickers for the member’s stock and bond holdings.\n",
    "\n",
    "    - `timeframe`: Use a time frame of one day.\n",
    "\n",
    "    - `start_date` and `end_date`: Use the same date for these parameters, and format them with the date of the previous weekday (or `2020-08-07`). This is because you want the one closing price for the most-recent trading day.\n",
    "\n",
    "4. Get the current closing prices for `SPY` and `AGG` by using the Alpaca `get_barset` function. Format the response as a Pandas DataFrame by including the `df` property at the end of the `get_barset` function.\n",
    "\n",
    "5. Navigating the Alpaca response DataFrame, select the `SPY` and `AGG` closing prices, and store them as variables.\n",
    "\n",
    "6. Calculate the value, in US dollars, of the current amount of shares in each of the stock and bond portions of the portfolio, and print the results.\n"
   ]
  },
  {
   "cell_type": "markdown",
   "metadata": {},
   "source": [
    "#### Review the total number of shares held in both (SPY) and (AGG)."
   ]
  },
  {
   "cell_type": "code",
   "execution_count": 17,
   "metadata": {},
   "outputs": [],
   "source": [
    "# Current amount of shares held in both the stock (SPY) and bond (AGG) portion of the portfolio.\n",
    "spy_shares = 110\n",
    "agg_shares = 200\n"
   ]
  },
  {
   "cell_type": "markdown",
   "metadata": {},
   "source": [
    "#### Step 1: In the `Starter_Code` folder, create an environment file (`.env`) to store the values of your Alpaca API key and Alpaca secret key."
   ]
  },
  {
   "cell_type": "markdown",
   "metadata": {},
   "source": [
    "#### Step 2: Set the variables for the Alpaca API and secret keys. Using the Alpaca SDK, create the Alpaca `tradeapi.REST` object. In this object, include the parameters for the Alpaca API key, the secret key, and the version number."
   ]
  },
  {
   "cell_type": "code",
   "execution_count": 18,
   "metadata": {},
   "outputs": [],
   "source": [
    "# Set the variables for the Alpaca API and secret keys\n",
    "\n",
    "ALPACA_API_KEY = os.getenv(\"ALPACA_API_KEY\")\n",
    "ALPACA_SECRET_KEY = os.getenv(\"ALPACA_SECRET_KEY\")\n",
    "# Create the Alpaca tradeapi.REST object\n",
    "alpaca = tradeapi.REST(\n",
    "    ALPACA_API_KEY,\n",
    "    ALPACA_SECRET_KEY,\n",
    "    api_version=\"v2\")\n"
   ]
  },
  {
   "cell_type": "markdown",
   "metadata": {},
   "source": [
    "#### Step 3: Set the following parameters for the Alpaca API call:\n",
    "\n",
    "- `tickers`: Use the tickers for the member’s stock and bond holdings.\n",
    "\n",
    "- `timeframe`: Use a time frame of one day.\n",
    "\n",
    "- `start_date` and `end_date`: Use the same date for these parameters, and format them with the date of the previous weekday (or `2020-08-07`). This is because you want the one closing price for the most-recent trading day.\n"
   ]
  },
  {
   "cell_type": "code",
   "execution_count": 19,
   "metadata": {},
   "outputs": [],
   "source": [
    "# Set the tickers for both the bond and stock portion of the portfolio\n",
    "tickers = [\"SPY\",\"AGG\"]\n",
    "\n",
    "# Set timeframe to 1D \n",
    "timeframe = \"1D\"\n",
    "\n",
    "# Format current date as ISO format\n",
    "# Set both the start and end date at the date of your prior weekday \n",
    "# This will give you the closing price of the previous trading day\n",
    "# Alternatively you can use a start and end date of 2020-08-07\n",
    "start_date = pd.Timestamp(\"2020-08-07\", tz=\"America/New_York\").isoformat()\n",
    "end_date = pd.Timestamp(\"2020-08-07\", tz=\"America/New_York\").isoformat()\n",
    "\n"
   ]
  },
  {
   "cell_type": "markdown",
   "metadata": {},
   "source": [
    "#### Step 4: Get the current closing prices for `SPY` and `AGG` by using the Alpaca `get_barset` function. Format the response as a Pandas DataFrame by including the `df` property at the end of the `get_barset` function."
   ]
  },
  {
   "cell_type": "code",
   "execution_count": 20,
   "metadata": {},
   "outputs": [
    {
     "data": {
      "text/html": [
       "<div>\n",
       "<style scoped>\n",
       "    .dataframe tbody tr th:only-of-type {\n",
       "        vertical-align: middle;\n",
       "    }\n",
       "\n",
       "    .dataframe tbody tr th {\n",
       "        vertical-align: top;\n",
       "    }\n",
       "\n",
       "    .dataframe thead tr th {\n",
       "        text-align: left;\n",
       "    }\n",
       "\n",
       "    .dataframe thead tr:last-of-type th {\n",
       "        text-align: right;\n",
       "    }\n",
       "</style>\n",
       "<table border=\"1\" class=\"dataframe\">\n",
       "  <thead>\n",
       "    <tr>\n",
       "      <th></th>\n",
       "      <th colspan=\"5\" halign=\"left\">AGG</th>\n",
       "      <th colspan=\"5\" halign=\"left\">SPY</th>\n",
       "    </tr>\n",
       "    <tr>\n",
       "      <th></th>\n",
       "      <th>open</th>\n",
       "      <th>high</th>\n",
       "      <th>low</th>\n",
       "      <th>close</th>\n",
       "      <th>volume</th>\n",
       "      <th>open</th>\n",
       "      <th>high</th>\n",
       "      <th>low</th>\n",
       "      <th>close</th>\n",
       "      <th>volume</th>\n",
       "    </tr>\n",
       "    <tr>\n",
       "      <th>time</th>\n",
       "      <th></th>\n",
       "      <th></th>\n",
       "      <th></th>\n",
       "      <th></th>\n",
       "      <th></th>\n",
       "      <th></th>\n",
       "      <th></th>\n",
       "      <th></th>\n",
       "      <th></th>\n",
       "      <th></th>\n",
       "    </tr>\n",
       "  </thead>\n",
       "  <tbody>\n",
       "    <tr>\n",
       "      <th>2020-08-07 00:00:00-04:00</th>\n",
       "      <td>119.66</td>\n",
       "      <td>119.73</td>\n",
       "      <td>119.395</td>\n",
       "      <td>119.445</td>\n",
       "      <td>8830420</td>\n",
       "      <td>333.28</td>\n",
       "      <td>334.88</td>\n",
       "      <td>332.3</td>\n",
       "      <td>334.55</td>\n",
       "      <td>98710236</td>\n",
       "    </tr>\n",
       "  </tbody>\n",
       "</table>\n",
       "</div>"
      ],
      "text/plain": [
       "                              AGG                                        SPY  \\\n",
       "                             open    high      low    close   volume    open   \n",
       "time                                                                           \n",
       "2020-08-07 00:00:00-04:00  119.66  119.73  119.395  119.445  8830420  333.28   \n",
       "\n",
       "                                                            \n",
       "                             high    low   close    volume  \n",
       "time                                                        \n",
       "2020-08-07 00:00:00-04:00  334.88  332.3  334.55  98710236  "
      ]
     },
     "execution_count": 20,
     "metadata": {},
     "output_type": "execute_result"
    }
   ],
   "source": [
    "# Use the Alpaca get_barset function to get current closing prices the portfolio\n",
    "# Be sure to set the `df` property after the function to format the response object as a DataFrame\n",
    "df_portfolio = alpaca.get_barset(\n",
    "    tickers,\n",
    "    timeframe,\n",
    "    start = start_date,\n",
    "    end = end_date\n",
    ").df\n",
    "\n",
    "# Display sample data\n",
    "df_portfolio\n",
    "\n",
    "# Review the first 5 rows of the Alpaca DataFrame\n",
    "\n",
    "df_portfolio.head()"
   ]
  },
  {
   "cell_type": "markdown",
   "metadata": {},
   "source": [
    "#### Step 5: Navigating the Alpaca response DataFrame, select the `SPY` and `AGG` closing prices, and store them as variables."
   ]
  },
  {
   "cell_type": "code",
   "execution_count": 21,
   "metadata": {},
   "outputs": [
    {
     "data": {
      "text/plain": [
       "19191919199.0"
      ]
     },
     "execution_count": 21,
     "metadata": {},
     "output_type": "execute_result"
    }
   ],
   "source": [
    "float(19191919199)"
   ]
  },
  {
   "cell_type": "code",
   "execution_count": 22,
   "metadata": {},
   "outputs": [
    {
     "name": "stdout",
     "output_type": "stream",
     "text": [
      "119.445\n"
     ]
    }
   ],
   "source": [
    "# Access the closing price for AGG from the Alpaca DataFrame\n",
    "# Converting the value to a floating point number\n",
    "agg_close_price = df_portfolio[\"AGG\"][\"close\"]\n",
    "agg_close_price = float(agg_close_price)\n",
    "\n",
    "\n",
    "# Print the AGG closing price\n",
    "print(agg_close_price)\n"
   ]
  },
  {
   "cell_type": "code",
   "execution_count": 23,
   "metadata": {},
   "outputs": [
    {
     "name": "stdout",
     "output_type": "stream",
     "text": [
      "334.55\n"
     ]
    }
   ],
   "source": [
    "# Access the closing price for SPY from the Alpaca DataFrame\n",
    "# Converting the value to a floating point number\n",
    "spy_close_price = df_portfolio[\"SPY\"][\"close\"]\n",
    "spy_close_price = float(spy_close_price)\n",
    "# Print the SPY closing price\n",
    "print(spy_close_price)\n"
   ]
  },
  {
   "cell_type": "markdown",
   "metadata": {},
   "source": [
    "#### Step 6: Calculate the value, in US dollars, of the current amount of shares in each of the stock and bond portions of the portfolio, and print the results."
   ]
  },
  {
   "cell_type": "code",
   "execution_count": 24,
   "metadata": {},
   "outputs": [
    {
     "name": "stdout",
     "output_type": "stream",
     "text": [
      "23889.0\n"
     ]
    }
   ],
   "source": [
    "# Calculate the current value of the bond portion of the portfolio\n",
    "agg_value = agg_shares * agg_close_price\n",
    "\n",
    "# Print the current value of the bond portfolio\n",
    "print(agg_value)\n"
   ]
  },
  {
   "cell_type": "code",
   "execution_count": 25,
   "metadata": {},
   "outputs": [
    {
     "name": "stdout",
     "output_type": "stream",
     "text": [
      "36800.5\n"
     ]
    }
   ],
   "source": [
    "# Calculate the current value of the stock portion of the portfolio\n",
    "spy_value = spy_shares * spy_close_price\n",
    "\n",
    "# Print the current value of the stock portfolio\n",
    "print(spy_value)\n"
   ]
  },
  {
   "cell_type": "code",
   "execution_count": 26,
   "metadata": {},
   "outputs": [
    {
     "name": "stdout",
     "output_type": "stream",
     "text": [
      "60689.5\n"
     ]
    }
   ],
   "source": [
    "# Calculate the total value of the stock and bond portion of the portfolio\n",
    "total_stocks_bonds = agg_value + spy_value\n",
    "\n",
    "# Print the current balance of the stock and bond portion of the portfolio\n",
    "print(total_stocks_bonds)\n"
   ]
  },
  {
   "cell_type": "code",
   "execution_count": 27,
   "metadata": {},
   "outputs": [
    {
     "name": "stdout",
     "output_type": "stream",
     "text": [
      "167469.55299999999\n"
     ]
    }
   ],
   "source": [
    "# Calculate the total value of the member's entire savings portfolio\n",
    "# Add the value of the cryptocurrency walled to the value of the total stocks and bonds\n",
    "total_portfolio = total_stocks_bonds + total_crypto_wallet\n",
    "\n",
    "# Print current cryptocurrency wallet balance\n",
    "print(total_portfolio)\n"
   ]
  },
  {
   "cell_type": "markdown",
   "metadata": {},
   "source": [
    "### Evaluate the Emergency Fund\n",
    "\n",
    "In this section, you’ll use the valuations for the cryptocurrency wallet and for the stock and bond portions of the portfolio to determine if the credit union member has enough savings to build an emergency fund into their financial plan. To do this, complete the following steps:\n",
    "\n",
    "1. Create a Python list named `savings_data` that has two elements. The first element contains the total value of the cryptocurrency wallet. The second element contains the total value of the stock and bond portions of the portfolio.\n",
    "\n",
    "2. Use the `savings_data` list to create a Pandas DataFrame named `savings_df`, and then display this DataFrame. The function to create the DataFrame should take the following three parameters:\n",
    "\n",
    "    - `savings_data`: Use the list that you just created.\n",
    "\n",
    "    - `columns`: Set this parameter equal to a Python list with a single value called `amount`.\n",
    "\n",
    "    - `index`: Set this parameter equal to a Python list with the values of `crypto` and `stock/bond`.\n",
    "\n",
    "3. Use the `savings_df` DataFrame to plot a pie chart that visualizes the composition of the member’s portfolio. The y-axis of the pie chart uses `amount`. Be sure to add a title.\n",
    "\n",
    "4. Using Python, determine if the current portfolio has enough to create an emergency fund as part of the member’s financial plan. Ideally, an emergency fund should equal to three times the member’s monthly income. To do this, implement the following steps:\n",
    "\n",
    "    1. Create a variable named `emergency_fund_value`, and set it equal to three times the value of the member’s `monthly_income` of $12000. (You set this earlier in Part 1).\n",
    "\n",
    "    2. Create a series of three if statements to determine if the member’s total portfolio is large enough to fund the emergency portfolio:\n",
    "\n",
    "        1. If the total portfolio value is greater than the emergency fund value, display a message congratulating the member for having enough money in this fund.\n",
    "\n",
    "        2. Else if the total portfolio value is equal to the emergency fund value, display a message congratulating the member on reaching this important financial goal.\n",
    "\n",
    "        3. Else the total portfolio is less than the emergency fund value, so display a message showing how many dollars away the member is from reaching the goal. (Subtract the total portfolio value from the emergency fund value.)\n"
   ]
  },
  {
   "cell_type": "markdown",
   "metadata": {},
   "source": [
    "#### Step 1: Create a Python list named `savings_data` that has two elements. The first element contains the total value of the cryptocurrency wallet. The second element contains the total value of the stock and bond portions of the portfolio."
   ]
  },
  {
   "cell_type": "code",
   "execution_count": 28,
   "metadata": {},
   "outputs": [
    {
     "name": "stdout",
     "output_type": "stream",
     "text": [
      "[106780.05299999999, 60689.5]\n"
     ]
    }
   ],
   "source": [
    "# Consolidate financial assets data into a Python list\n",
    "\n",
    "savings_data = [total_crypto_wallet,total_stocks_bonds]\n",
    "# Review the Python list savings_data\n",
    "\n",
    "print(savings_data)   "
   ]
  },
  {
   "cell_type": "markdown",
   "metadata": {},
   "source": [
    "#### Step 2: Use the `savings_data` list to create a Pandas DataFrame named `savings_df`, and then display this DataFrame. The function to create the DataFrame should take the following three parameters:\n",
    "\n",
    "- `savings_data`: Use the list that you just created.\n",
    "\n",
    "- `columns`: Set this parameter equal to a Python list with a single value called `amount`.\n",
    "\n",
    "- `index`: Set this parameter equal to a Python list with the values of `crypto` and `stock/bond`.\n"
   ]
  },
  {
   "cell_type": "code",
   "execution_count": 29,
   "metadata": {},
   "outputs": [
    {
     "data": {
      "text/html": [
       "<div>\n",
       "<style scoped>\n",
       "    .dataframe tbody tr th:only-of-type {\n",
       "        vertical-align: middle;\n",
       "    }\n",
       "\n",
       "    .dataframe tbody tr th {\n",
       "        vertical-align: top;\n",
       "    }\n",
       "\n",
       "    .dataframe thead th {\n",
       "        text-align: right;\n",
       "    }\n",
       "</style>\n",
       "<table border=\"1\" class=\"dataframe\">\n",
       "  <thead>\n",
       "    <tr style=\"text-align: right;\">\n",
       "      <th></th>\n",
       "      <th>amount</th>\n",
       "    </tr>\n",
       "  </thead>\n",
       "  <tbody>\n",
       "    <tr>\n",
       "      <th>crypto</th>\n",
       "      <td>106780.053</td>\n",
       "    </tr>\n",
       "    <tr>\n",
       "      <th>stock/bond</th>\n",
       "      <td>60689.500</td>\n",
       "    </tr>\n",
       "  </tbody>\n",
       "</table>\n",
       "</div>"
      ],
      "text/plain": [
       "                amount\n",
       "crypto      106780.053\n",
       "stock/bond   60689.500"
      ]
     },
     "execution_count": 29,
     "metadata": {},
     "output_type": "execute_result"
    }
   ],
   "source": [
    "# Create a Pandas DataFrame called savings_df \n",
    "savings_df = pd.DataFrame(savings_data,columns=[\"amount\"],index=[\"crypto\",\"stock/bond\"])\n",
    "\n",
    "# Display the savings_df DataFrame\n",
    "savings_df\n"
   ]
  },
  {
   "cell_type": "markdown",
   "metadata": {},
   "source": [
    "#### Step 3: Use the `savings_df` DataFrame to plot a pie chart that visualizes the composition of the member’s portfolio. The y-axis of the pie chart uses `amount`. Be sure to add a title."
   ]
  },
  {
   "cell_type": "code",
   "execution_count": 30,
   "metadata": {},
   "outputs": [
    {
     "data": {
      "image/png": "[encoded data removed]",
      "text/plain": [
       "<Figure size 648x504 with 1 Axes>"
      ]
     },
     "metadata": {},
     "output_type": "display_data"
    }
   ],
   "source": [
    "# Plot the total value of the member's portfolio (crypto and stock/bond) in a pie chart\n",
    "plot =savings_df.plot.pie(y='amount', figsize=(9, 7))\n",
    "plt.title('The Composition Stock/Bond & Crypto Portfolio')\n",
    "plt.show();"
   ]
  },
  {
   "cell_type": "markdown",
   "metadata": {},
   "source": [
    "#### Step 4: Using Python, determine if the current portfolio has enough to create an emergency fund as part of the member’s financial plan. Ideally, an emergency fund should equal to three times the member’s monthly income. To do this, implement the following steps:\n",
    "\n",
    "Step 1. Create a variable named `emergency_fund_value`, and set it equal to three times the value of the member’s `monthly_income` of 12000. (You set this earlier in Part 1).\n",
    "\n",
    "Step 2. Create a series of three if statements to determine if the member’s total portfolio is large enough to fund the emergency portfolio:\n",
    "\n",
    "* If the total portfolio value is greater than the emergency fund value, display a message congratulating the member for having enough money in this fund.\n",
    "\n",
    "* Else if the total portfolio value is equal to the emergency fund value, display a message congratulating the member on reaching this important financial goal.\n",
    "\n",
    "* Else the total portfolio is less than the emergency fund value, so display a message showing how many dollars away the member is from reaching the goal. (Subtract the total portfolio value from the emergency fund value.)\n"
   ]
  },
  {
   "cell_type": "markdown",
   "metadata": {},
   "source": [
    "##### Step 4-1: Create a variable named `emergency_fund_value`, and set it equal to three times the value of the member’s `monthly_income` of 12000. (You set this earlier in Part 1)."
   ]
  },
  {
   "cell_type": "code",
   "execution_count": 31,
   "metadata": {},
   "outputs": [
    {
     "name": "stdout",
     "output_type": "stream",
     "text": [
      "36000\n"
     ]
    }
   ],
   "source": [
    "# Create a variable named emergency_fund_value\n",
    "emergency_fund_value = monthly_income * 3 \n",
    "print(emergency_fund_value)"
   ]
  },
  {
   "cell_type": "markdown",
   "metadata": {},
   "source": [
    "##### Step 4-2: Create a series of three if statements to determine if the member’s total portfolio is large enough to fund the emergency portfolio:\n",
    "\n",
    "* If the total portfolio value is greater than the emergency fund value, display a message congratulating the member for having enough money in this fund.\n",
    "\n",
    "* Else if the total portfolio value is equal to the emergency fund value, display a message congratulating the member on reaching this important financial goal.\n",
    "\n",
    "* Else the total portfolio is less than the emergency fund value, so display a message showing how many dollars away the member is from reaching the goal. (Subtract the total portfolio value from the emergency fund value.)"
   ]
  },
  {
   "cell_type": "code",
   "execution_count": 32,
   "metadata": {},
   "outputs": [
    {
     "name": "stdout",
     "output_type": "stream",
     "text": [
      "Congratulations, You have enough money in your Portfolio.\n"
     ]
    }
   ],
   "source": [
    "# Evaluate the possibility of creating an emergency fund with 3 conditions:\n",
    "if total_portfolio > emergency_fund_value:\n",
    "    print (\"Congratulations, You have enough money in your Portfolio.\")\n",
    "elif total_portfolio == emergency_fund_value:\n",
    "    print (\"Congratulations, You reached your financial goal.\")\n",
    "else: \n",
    "    print (\"Sorry, Your Portfolio is less than the emergency fund value with $ {emergency_fund_value - total_portfolio}\", )\n"
   ]
  },
  {
   "cell_type": "code",
   "execution_count": null,
   "metadata": {},
   "outputs": [],
   "source": []
  },
  {
   "cell_type": "markdown",
   "metadata": {},
   "source": [
    "## Part 2: Create a Financial Planner for Retirement"
   ]
  },
  {
   "cell_type": "markdown",
   "metadata": {},
   "source": [
    "### Create the Monte Carlo Simulation\n",
    "\n",
    "In this section, you’ll use the MCForecastTools library to create a Monte Carlo simulation for the member’s savings portfolio. To do this, complete the following steps:\n",
    "\n",
    "1. Make an API call via the Alpaca SDK to get 3 years of historical closing prices for a traditional 60/40 portfolio split: 60% stocks (SPY) and 40% bonds (AGG).\n",
    "\n",
    "2. Run a Monte Carlo simulation of 500 samples and 30 years for the 60/40 portfolio, and then plot the results.The following image shows the overlay line plot resulting from a simulation with these characteristics. However, because a random number generator is used to run each live Monte Carlo simulation, your image will differ slightly from this exact image:\n",
    "\n",
    "![A screenshot depicts the resulting plot.](Images/5-4-monte-carlo-line-plot.png)\n",
    "\n",
    "3. Plot the probability distribution of the Monte Carlo simulation. Plot the probability distribution of the Monte Carlo simulation. The following image shows the histogram plot resulting from a simulation with these characteristics. However, because a random number generator is used to run each live Monte Carlo simulation, your image will differ slightly from this exact image:\n",
    "\n",
    "![A screenshot depicts the histogram plot.](Images/5-4-monte-carlo-histogram.png)\n",
    "\n",
    "4. Generate the summary statistics for the Monte Carlo simulation.\n",
    "\n"
   ]
  },
  {
   "cell_type": "markdown",
   "metadata": {},
   "source": [
    "#### Step 1: Make an API call via the Alpaca SDK to get 3 years of historical closing prices for a traditional 60/40 portfolio split: 60% stocks (SPY) and 40% bonds (AGG)."
   ]
  },
  {
   "cell_type": "code",
   "execution_count": 33,
   "metadata": {},
   "outputs": [],
   "source": [
    "# Set start and end dates of 3 years back from your current date\n",
    "# Alternatively, you can use an end date of 2020-08-07 and work 3 years back from that date \n",
    "alpaca_api_key = os.getenv(\"ALPACA_API_KEY\")\n",
    "alpaca_secret_key = os.getenv(\"ALPACA_SECRET_KEY\")\n",
    "type(alpaca_secret_key )\n",
    "alpaca = tradeapi.REST(\n",
    "  alpaca_api_key,\n",
    "  alpaca_secret_key,\n",
    "  api_version = \"v2\"\n",
    ")\n",
    "tickers = [\"SPY\",\"AGG\"]\n",
    "timeframe = \"1D\"\n",
    "start_date = pd.Timestamp(\"2018-08-11\", tz=\"America/New_York\").isoformat()\n",
    "end_date = pd.Timestamp(\"2021-08-11\", tz=\"America/New_York\").isoformat()\n",
    "\n",
    "# Set number of rows to 1000 to retrieve the maximum amount of rows\n",
    "limit_rows = 1000"
   ]
  },
  {
   "cell_type": "code",
   "execution_count": 34,
   "metadata": {},
   "outputs": [
    {
     "data": {
      "text/html": [
       "<div>\n",
       "<style scoped>\n",
       "    .dataframe tbody tr th:only-of-type {\n",
       "        vertical-align: middle;\n",
       "    }\n",
       "\n",
       "    .dataframe tbody tr th {\n",
       "        vertical-align: top;\n",
       "    }\n",
       "\n",
       "    .dataframe thead tr th {\n",
       "        text-align: left;\n",
       "    }\n",
       "\n",
       "    .dataframe thead tr:last-of-type th {\n",
       "        text-align: right;\n",
       "    }\n",
       "</style>\n",
       "<table border=\"1\" class=\"dataframe\">\n",
       "  <thead>\n",
       "    <tr>\n",
       "      <th></th>\n",
       "      <th colspan=\"5\" halign=\"left\">AGG</th>\n",
       "      <th colspan=\"5\" halign=\"left\">SPY</th>\n",
       "    </tr>\n",
       "    <tr>\n",
       "      <th></th>\n",
       "      <th>open</th>\n",
       "      <th>high</th>\n",
       "      <th>low</th>\n",
       "      <th>close</th>\n",
       "      <th>volume</th>\n",
       "      <th>open</th>\n",
       "      <th>high</th>\n",
       "      <th>low</th>\n",
       "      <th>close</th>\n",
       "      <th>volume</th>\n",
       "    </tr>\n",
       "    <tr>\n",
       "      <th>time</th>\n",
       "      <th></th>\n",
       "      <th></th>\n",
       "      <th></th>\n",
       "      <th></th>\n",
       "      <th></th>\n",
       "      <th></th>\n",
       "      <th></th>\n",
       "      <th></th>\n",
       "      <th></th>\n",
       "      <th></th>\n",
       "    </tr>\n",
       "  </thead>\n",
       "  <tbody>\n",
       "    <tr>\n",
       "      <th>2018-08-13 00:00:00-04:00</th>\n",
       "      <td>106.16</td>\n",
       "      <td>106.300</td>\n",
       "      <td>106.1501</td>\n",
       "      <td>106.285</td>\n",
       "      <td>2558386</td>\n",
       "      <td>283.47</td>\n",
       "      <td>284.1600</td>\n",
       "      <td>281.7700</td>\n",
       "      <td>282.05</td>\n",
       "      <td>49247799</td>\n",
       "    </tr>\n",
       "    <tr>\n",
       "      <th>2018-08-14 00:00:00-04:00</th>\n",
       "      <td>106.30</td>\n",
       "      <td>106.330</td>\n",
       "      <td>106.1600</td>\n",
       "      <td>106.190</td>\n",
       "      <td>3862629</td>\n",
       "      <td>282.92</td>\n",
       "      <td>284.1700</td>\n",
       "      <td>282.4833</td>\n",
       "      <td>283.86</td>\n",
       "      <td>32906829</td>\n",
       "    </tr>\n",
       "    <tr>\n",
       "      <th>2018-08-15 00:00:00-04:00</th>\n",
       "      <td>106.29</td>\n",
       "      <td>106.440</td>\n",
       "      <td>106.2500</td>\n",
       "      <td>106.335</td>\n",
       "      <td>4093893</td>\n",
       "      <td>282.38</td>\n",
       "      <td>282.5400</td>\n",
       "      <td>280.1600</td>\n",
       "      <td>281.76</td>\n",
       "      <td>76384638</td>\n",
       "    </tr>\n",
       "    <tr>\n",
       "      <th>2018-08-16 00:00:00-04:00</th>\n",
       "      <td>106.38</td>\n",
       "      <td>106.420</td>\n",
       "      <td>106.2400</td>\n",
       "      <td>106.390</td>\n",
       "      <td>2135827</td>\n",
       "      <td>283.40</td>\n",
       "      <td>285.0400</td>\n",
       "      <td>283.3600</td>\n",
       "      <td>284.10</td>\n",
       "      <td>49048421</td>\n",
       "    </tr>\n",
       "    <tr>\n",
       "      <th>2018-08-17 00:00:00-04:00</th>\n",
       "      <td>106.43</td>\n",
       "      <td>106.545</td>\n",
       "      <td>106.3800</td>\n",
       "      <td>106.460</td>\n",
       "      <td>1915186</td>\n",
       "      <td>283.83</td>\n",
       "      <td>285.5601</td>\n",
       "      <td>283.3700</td>\n",
       "      <td>285.02</td>\n",
       "      <td>43630918</td>\n",
       "    </tr>\n",
       "  </tbody>\n",
       "</table>\n",
       "</div>"
      ],
      "text/plain": [
       "                              AGG                                       \\\n",
       "                             open     high       low    close   volume   \n",
       "time                                                                     \n",
       "2018-08-13 00:00:00-04:00  106.16  106.300  106.1501  106.285  2558386   \n",
       "2018-08-14 00:00:00-04:00  106.30  106.330  106.1600  106.190  3862629   \n",
       "2018-08-15 00:00:00-04:00  106.29  106.440  106.2500  106.335  4093893   \n",
       "2018-08-16 00:00:00-04:00  106.38  106.420  106.2400  106.390  2135827   \n",
       "2018-08-17 00:00:00-04:00  106.43  106.545  106.3800  106.460  1915186   \n",
       "\n",
       "                              SPY                                        \n",
       "                             open      high       low   close    volume  \n",
       "time                                                                     \n",
       "2018-08-13 00:00:00-04:00  283.47  284.1600  281.7700  282.05  49247799  \n",
       "2018-08-14 00:00:00-04:00  282.92  284.1700  282.4833  283.86  32906829  \n",
       "2018-08-15 00:00:00-04:00  282.38  282.5400  280.1600  281.76  76384638  \n",
       "2018-08-16 00:00:00-04:00  283.40  285.0400  283.3600  284.10  49048421  \n",
       "2018-08-17 00:00:00-04:00  283.83  285.5601  283.3700  285.02  43630918  "
      ]
     },
     "metadata": {},
     "output_type": "display_data"
    },
    {
     "data": {
      "text/html": [
       "<div>\n",
       "<style scoped>\n",
       "    .dataframe tbody tr th:only-of-type {\n",
       "        vertical-align: middle;\n",
       "    }\n",
       "\n",
       "    .dataframe tbody tr th {\n",
       "        vertical-align: top;\n",
       "    }\n",
       "\n",
       "    .dataframe thead tr th {\n",
       "        text-align: left;\n",
       "    }\n",
       "\n",
       "    .dataframe thead tr:last-of-type th {\n",
       "        text-align: right;\n",
       "    }\n",
       "</style>\n",
       "<table border=\"1\" class=\"dataframe\">\n",
       "  <thead>\n",
       "    <tr>\n",
       "      <th></th>\n",
       "      <th colspan=\"5\" halign=\"left\">AGG</th>\n",
       "      <th colspan=\"5\" halign=\"left\">SPY</th>\n",
       "    </tr>\n",
       "    <tr>\n",
       "      <th></th>\n",
       "      <th>open</th>\n",
       "      <th>high</th>\n",
       "      <th>low</th>\n",
       "      <th>close</th>\n",
       "      <th>volume</th>\n",
       "      <th>open</th>\n",
       "      <th>high</th>\n",
       "      <th>low</th>\n",
       "      <th>close</th>\n",
       "      <th>volume</th>\n",
       "    </tr>\n",
       "    <tr>\n",
       "      <th>time</th>\n",
       "      <th></th>\n",
       "      <th></th>\n",
       "      <th></th>\n",
       "      <th></th>\n",
       "      <th></th>\n",
       "      <th></th>\n",
       "      <th></th>\n",
       "      <th></th>\n",
       "      <th></th>\n",
       "      <th></th>\n",
       "    </tr>\n",
       "  </thead>\n",
       "  <tbody>\n",
       "    <tr>\n",
       "      <th>2021-08-05 00:00:00-04:00</th>\n",
       "      <td>116.46</td>\n",
       "      <td>116.48</td>\n",
       "      <td>116.280</td>\n",
       "      <td>116.32</td>\n",
       "      <td>3170931</td>\n",
       "      <td>440.22</td>\n",
       "      <td>441.850</td>\n",
       "      <td>439.88</td>\n",
       "      <td>441.77</td>\n",
       "      <td>34903127</td>\n",
       "    </tr>\n",
       "    <tr>\n",
       "      <th>2021-08-06 00:00:00-04:00</th>\n",
       "      <td>115.93</td>\n",
       "      <td>116.02</td>\n",
       "      <td>115.780</td>\n",
       "      <td>115.79</td>\n",
       "      <td>3125122</td>\n",
       "      <td>442.10</td>\n",
       "      <td>442.940</td>\n",
       "      <td>441.80</td>\n",
       "      <td>442.52</td>\n",
       "      <td>40274051</td>\n",
       "    </tr>\n",
       "    <tr>\n",
       "      <th>2021-08-09 00:00:00-04:00</th>\n",
       "      <td>115.89</td>\n",
       "      <td>115.96</td>\n",
       "      <td>115.580</td>\n",
       "      <td>115.59</td>\n",
       "      <td>5003990</td>\n",
       "      <td>442.45</td>\n",
       "      <td>442.795</td>\n",
       "      <td>441.31</td>\n",
       "      <td>442.14</td>\n",
       "      <td>32740524</td>\n",
       "    </tr>\n",
       "    <tr>\n",
       "      <th>2021-08-10 00:00:00-04:00</th>\n",
       "      <td>115.65</td>\n",
       "      <td>115.65</td>\n",
       "      <td>115.435</td>\n",
       "      <td>115.44</td>\n",
       "      <td>6692325</td>\n",
       "      <td>442.61</td>\n",
       "      <td>443.440</td>\n",
       "      <td>441.88</td>\n",
       "      <td>442.66</td>\n",
       "      <td>39129442</td>\n",
       "    </tr>\n",
       "    <tr>\n",
       "      <th>2021-08-11 00:00:00-04:00</th>\n",
       "      <td>115.46</td>\n",
       "      <td>115.70</td>\n",
       "      <td>115.340</td>\n",
       "      <td>115.55</td>\n",
       "      <td>6423130</td>\n",
       "      <td>443.80</td>\n",
       "      <td>443.882</td>\n",
       "      <td>442.62</td>\n",
       "      <td>443.74</td>\n",
       "      <td>35841235</td>\n",
       "    </tr>\n",
       "  </tbody>\n",
       "</table>\n",
       "</div>"
      ],
      "text/plain": [
       "                              AGG                                       SPY  \\\n",
       "                             open    high      low   close   volume    open   \n",
       "time                                                                          \n",
       "2021-08-05 00:00:00-04:00  116.46  116.48  116.280  116.32  3170931  440.22   \n",
       "2021-08-06 00:00:00-04:00  115.93  116.02  115.780  115.79  3125122  442.10   \n",
       "2021-08-09 00:00:00-04:00  115.89  115.96  115.580  115.59  5003990  442.45   \n",
       "2021-08-10 00:00:00-04:00  115.65  115.65  115.435  115.44  6692325  442.61   \n",
       "2021-08-11 00:00:00-04:00  115.46  115.70  115.340  115.55  6423130  443.80   \n",
       "\n",
       "                                                              \n",
       "                              high     low   close    volume  \n",
       "time                                                          \n",
       "2021-08-05 00:00:00-04:00  441.850  439.88  441.77  34903127  \n",
       "2021-08-06 00:00:00-04:00  442.940  441.80  442.52  40274051  \n",
       "2021-08-09 00:00:00-04:00  442.795  441.31  442.14  32740524  \n",
       "2021-08-10 00:00:00-04:00  443.440  441.88  442.66  39129442  \n",
       "2021-08-11 00:00:00-04:00  443.882  442.62  443.74  35841235  "
      ]
     },
     "metadata": {},
     "output_type": "display_data"
    }
   ],
   "source": [
    "# Use the Alpaca get_barset function to make the API call to get the 3 years worth of pricing data\n",
    "# The tickers and timeframe parameters should have been set in Part 1 of this activity \n",
    "# The start and end dates should be updated with the information set above\n",
    "# Remember to add the df property to the end of the call so the response is returned as a DataFrame\n",
    "prices_df = alpaca.get_barset(\n",
    "  tickers,\n",
    "  timeframe,\n",
    "  start=start_date,\n",
    "  end=end_date,\n",
    "  limit=limit_rows\n",
    ").df\n",
    "\n",
    "\n",
    "# Display both the first and last five rows of the DataFrame\n",
    "display(prices_df.head())\n",
    "display(prices_df.tail())\n"
   ]
  },
  {
   "cell_type": "markdown",
   "metadata": {},
   "source": [
    "#### Step 2: Run a Monte Carlo simulation of 500 samples and 30 years for the 60/40 portfolio, and then plot the results."
   ]
  },
  {
   "cell_type": "code",
   "execution_count": 35,
   "metadata": {},
   "outputs": [
    {
     "data": {
      "text/html": [
       "<div>\n",
       "<style scoped>\n",
       "    .dataframe tbody tr th:only-of-type {\n",
       "        vertical-align: middle;\n",
       "    }\n",
       "\n",
       "    .dataframe tbody tr th {\n",
       "        vertical-align: top;\n",
       "    }\n",
       "\n",
       "    .dataframe thead tr th {\n",
       "        text-align: left;\n",
       "    }\n",
       "\n",
       "    .dataframe thead tr:last-of-type th {\n",
       "        text-align: right;\n",
       "    }\n",
       "</style>\n",
       "<table border=\"1\" class=\"dataframe\">\n",
       "  <thead>\n",
       "    <tr>\n",
       "      <th></th>\n",
       "      <th colspan=\"6\" halign=\"left\">AGG</th>\n",
       "      <th colspan=\"6\" halign=\"left\">SPY</th>\n",
       "    </tr>\n",
       "    <tr>\n",
       "      <th></th>\n",
       "      <th>open</th>\n",
       "      <th>high</th>\n",
       "      <th>low</th>\n",
       "      <th>close</th>\n",
       "      <th>volume</th>\n",
       "      <th>daily_return</th>\n",
       "      <th>open</th>\n",
       "      <th>high</th>\n",
       "      <th>low</th>\n",
       "      <th>close</th>\n",
       "      <th>volume</th>\n",
       "      <th>daily_return</th>\n",
       "    </tr>\n",
       "    <tr>\n",
       "      <th>time</th>\n",
       "      <th></th>\n",
       "      <th></th>\n",
       "      <th></th>\n",
       "      <th></th>\n",
       "      <th></th>\n",
       "      <th></th>\n",
       "      <th></th>\n",
       "      <th></th>\n",
       "      <th></th>\n",
       "      <th></th>\n",
       "      <th></th>\n",
       "      <th></th>\n",
       "    </tr>\n",
       "  </thead>\n",
       "  <tbody>\n",
       "    <tr>\n",
       "      <th>2018-08-13 00:00:00-04:00</th>\n",
       "      <td>106.16</td>\n",
       "      <td>106.300</td>\n",
       "      <td>106.1501</td>\n",
       "      <td>106.285</td>\n",
       "      <td>2558386</td>\n",
       "      <td>NaN</td>\n",
       "      <td>283.47</td>\n",
       "      <td>284.1600</td>\n",
       "      <td>281.7700</td>\n",
       "      <td>282.05</td>\n",
       "      <td>49247799</td>\n",
       "      <td>NaN</td>\n",
       "    </tr>\n",
       "    <tr>\n",
       "      <th>2018-08-14 00:00:00-04:00</th>\n",
       "      <td>106.30</td>\n",
       "      <td>106.330</td>\n",
       "      <td>106.1600</td>\n",
       "      <td>106.190</td>\n",
       "      <td>3862629</td>\n",
       "      <td>-0.000894</td>\n",
       "      <td>282.92</td>\n",
       "      <td>284.1700</td>\n",
       "      <td>282.4833</td>\n",
       "      <td>283.86</td>\n",
       "      <td>32906829</td>\n",
       "      <td>0.006417</td>\n",
       "    </tr>\n",
       "    <tr>\n",
       "      <th>2018-08-15 00:00:00-04:00</th>\n",
       "      <td>106.29</td>\n",
       "      <td>106.440</td>\n",
       "      <td>106.2500</td>\n",
       "      <td>106.335</td>\n",
       "      <td>4093893</td>\n",
       "      <td>0.001365</td>\n",
       "      <td>282.38</td>\n",
       "      <td>282.5400</td>\n",
       "      <td>280.1600</td>\n",
       "      <td>281.76</td>\n",
       "      <td>76384638</td>\n",
       "      <td>-0.007398</td>\n",
       "    </tr>\n",
       "    <tr>\n",
       "      <th>2018-08-16 00:00:00-04:00</th>\n",
       "      <td>106.38</td>\n",
       "      <td>106.420</td>\n",
       "      <td>106.2400</td>\n",
       "      <td>106.390</td>\n",
       "      <td>2135827</td>\n",
       "      <td>0.000517</td>\n",
       "      <td>283.40</td>\n",
       "      <td>285.0400</td>\n",
       "      <td>283.3600</td>\n",
       "      <td>284.10</td>\n",
       "      <td>49048421</td>\n",
       "      <td>0.008305</td>\n",
       "    </tr>\n",
       "    <tr>\n",
       "      <th>2018-08-17 00:00:00-04:00</th>\n",
       "      <td>106.43</td>\n",
       "      <td>106.545</td>\n",
       "      <td>106.3800</td>\n",
       "      <td>106.460</td>\n",
       "      <td>1915186</td>\n",
       "      <td>0.000658</td>\n",
       "      <td>283.83</td>\n",
       "      <td>285.5601</td>\n",
       "      <td>283.3700</td>\n",
       "      <td>285.02</td>\n",
       "      <td>43630918</td>\n",
       "      <td>0.003238</td>\n",
       "    </tr>\n",
       "  </tbody>\n",
       "</table>\n",
       "</div>"
      ],
      "text/plain": [
       "                              AGG                                       \\\n",
       "                             open     high       low    close   volume   \n",
       "time                                                                     \n",
       "2018-08-13 00:00:00-04:00  106.16  106.300  106.1501  106.285  2558386   \n",
       "2018-08-14 00:00:00-04:00  106.30  106.330  106.1600  106.190  3862629   \n",
       "2018-08-15 00:00:00-04:00  106.29  106.440  106.2500  106.335  4093893   \n",
       "2018-08-16 00:00:00-04:00  106.38  106.420  106.2400  106.390  2135827   \n",
       "2018-08-17 00:00:00-04:00  106.43  106.545  106.3800  106.460  1915186   \n",
       "\n",
       "                                           SPY                              \\\n",
       "                          daily_return    open      high       low   close   \n",
       "time                                                                         \n",
       "2018-08-13 00:00:00-04:00          NaN  283.47  284.1600  281.7700  282.05   \n",
       "2018-08-14 00:00:00-04:00    -0.000894  282.92  284.1700  282.4833  283.86   \n",
       "2018-08-15 00:00:00-04:00     0.001365  282.38  282.5400  280.1600  281.76   \n",
       "2018-08-16 00:00:00-04:00     0.000517  283.40  285.0400  283.3600  284.10   \n",
       "2018-08-17 00:00:00-04:00     0.000658  283.83  285.5601  283.3700  285.02   \n",
       "\n",
       "                                                  \n",
       "                             volume daily_return  \n",
       "time                                              \n",
       "2018-08-13 00:00:00-04:00  49247799          NaN  \n",
       "2018-08-14 00:00:00-04:00  32906829     0.006417  \n",
       "2018-08-15 00:00:00-04:00  76384638    -0.007398  \n",
       "2018-08-16 00:00:00-04:00  49048421     0.008305  \n",
       "2018-08-17 00:00:00-04:00  43630918     0.003238  "
      ]
     },
     "execution_count": 35,
     "metadata": {},
     "output_type": "execute_result"
    }
   ],
   "source": [
    "# Configure the Monte Carlo simulation to forecast 30 years cumulative returns\n",
    "# The weights should be split 40% to AGG and 60% to SPY.\n",
    "# Run 500 samples.\n",
    "from MCForecastTools import MCSimulation\n",
    "\n",
    "# Review the simulation input data\n",
    "MC_thirty_years = MCSimulation(\n",
    "  portfolio_data = prices_df,\n",
    "  weights = [.60,.40],\n",
    "  num_simulation = 500,\n",
    "  num_trading_days = 252*30\n",
    ")\n",
    "\n",
    "\n",
    "MC_thirty_years.portfolio_data.head()"
   ]
  },
  {
   "cell_type": "code",
   "execution_count": 36,
   "metadata": {},
   "outputs": [
    {
     "name": "stdout",
     "output_type": "stream",
     "text": [
      "Running Monte Carlo simulation number 0.\n",
      "Running Monte Carlo simulation number 10.\n",
      "Running Monte Carlo simulation number 20.\n",
      "Running Monte Carlo simulation number 30.\n",
      "Running Monte Carlo simulation number 40.\n",
      "Running Monte Carlo simulation number 50.\n",
      "Running Monte Carlo simulation number 60.\n",
      "Running Monte Carlo simulation number 70.\n",
      "Running Monte Carlo simulation number 80.\n",
      "Running Monte Carlo simulation number 90.\n",
      "Running Monte Carlo simulation number 100.\n",
      "Running Monte Carlo simulation number 110.\n",
      "Running Monte Carlo simulation number 120.\n",
      "Running Monte Carlo simulation number 130.\n",
      "Running Monte Carlo simulation number 140.\n",
      "Running Monte Carlo simulation number 150.\n",
      "Running Monte Carlo simulation number 160.\n",
      "Running Monte Carlo simulation number 170.\n",
      "Running Monte Carlo simulation number 180.\n",
      "Running Monte Carlo simulation number 190.\n",
      "Running Monte Carlo simulation number 200.\n",
      "Running Monte Carlo simulation number 210.\n",
      "Running Monte Carlo simulation number 220.\n",
      "Running Monte Carlo simulation number 230.\n",
      "Running Monte Carlo simulation number 240.\n",
      "Running Monte Carlo simulation number 250.\n",
      "Running Monte Carlo simulation number 260.\n",
      "Running Monte Carlo simulation number 270.\n",
      "Running Monte Carlo simulation number 280.\n",
      "Running Monte Carlo simulation number 290.\n",
      "Running Monte Carlo simulation number 300.\n",
      "Running Monte Carlo simulation number 310.\n",
      "Running Monte Carlo simulation number 320.\n",
      "Running Monte Carlo simulation number 330.\n",
      "Running Monte Carlo simulation number 340.\n",
      "Running Monte Carlo simulation number 350.\n",
      "Running Monte Carlo simulation number 360.\n",
      "Running Monte Carlo simulation number 370.\n",
      "Running Monte Carlo simulation number 380.\n",
      "Running Monte Carlo simulation number 390.\n",
      "Running Monte Carlo simulation number 400.\n",
      "Running Monte Carlo simulation number 410.\n",
      "Running Monte Carlo simulation number 420.\n",
      "Running Monte Carlo simulation number 430.\n",
      "Running Monte Carlo simulation number 440.\n",
      "Running Monte Carlo simulation number 450.\n",
      "Running Monte Carlo simulation number 460.\n",
      "Running Monte Carlo simulation number 470.\n",
      "Running Monte Carlo simulation number 480.\n",
      "Running Monte Carlo simulation number 490.\n"
     ]
    },
    {
     "data": {
      "text/html": [
       "<div>\n",
       "<style scoped>\n",
       "    .dataframe tbody tr th:only-of-type {\n",
       "        vertical-align: middle;\n",
       "    }\n",
       "\n",
       "    .dataframe tbody tr th {\n",
       "        vertical-align: top;\n",
       "    }\n",
       "\n",
       "    .dataframe thead th {\n",
       "        text-align: right;\n",
       "    }\n",
       "</style>\n",
       "<table border=\"1\" class=\"dataframe\">\n",
       "  <thead>\n",
       "    <tr style=\"text-align: right;\">\n",
       "      <th></th>\n",
       "      <th>0</th>\n",
       "      <th>1</th>\n",
       "      <th>2</th>\n",
       "      <th>3</th>\n",
       "      <th>4</th>\n",
       "      <th>5</th>\n",
       "      <th>6</th>\n",
       "      <th>7</th>\n",
       "      <th>8</th>\n",
       "      <th>9</th>\n",
       "      <th>...</th>\n",
       "      <th>490</th>\n",
       "      <th>491</th>\n",
       "      <th>492</th>\n",
       "      <th>493</th>\n",
       "      <th>494</th>\n",
       "      <th>495</th>\n",
       "      <th>496</th>\n",
       "      <th>497</th>\n",
       "      <th>498</th>\n",
       "      <th>499</th>\n",
       "    </tr>\n",
       "  </thead>\n",
       "  <tbody>\n",
       "    <tr>\n",
       "      <th>0</th>\n",
       "      <td>1.000000</td>\n",
       "      <td>1.000000</td>\n",
       "      <td>1.000000</td>\n",
       "      <td>1.000000</td>\n",
       "      <td>1.000000</td>\n",
       "      <td>1.000000</td>\n",
       "      <td>1.000000</td>\n",
       "      <td>1.000000</td>\n",
       "      <td>1.000000</td>\n",
       "      <td>1.000000</td>\n",
       "      <td>...</td>\n",
       "      <td>1.000000</td>\n",
       "      <td>1.000000</td>\n",
       "      <td>1.000000</td>\n",
       "      <td>1.000000</td>\n",
       "      <td>1.000000</td>\n",
       "      <td>1.000000</td>\n",
       "      <td>1.000000</td>\n",
       "      <td>1.000000</td>\n",
       "      <td>1.000000</td>\n",
       "      <td>1.000000</td>\n",
       "    </tr>\n",
       "    <tr>\n",
       "      <th>1</th>\n",
       "      <td>1.004681</td>\n",
       "      <td>1.000363</td>\n",
       "      <td>1.011933</td>\n",
       "      <td>1.002089</td>\n",
       "      <td>0.997240</td>\n",
       "      <td>1.002814</td>\n",
       "      <td>1.008431</td>\n",
       "      <td>1.002004</td>\n",
       "      <td>0.998905</td>\n",
       "      <td>1.007254</td>\n",
       "      <td>...</td>\n",
       "      <td>1.006672</td>\n",
       "      <td>1.005280</td>\n",
       "      <td>0.996710</td>\n",
       "      <td>1.008463</td>\n",
       "      <td>1.001794</td>\n",
       "      <td>0.998977</td>\n",
       "      <td>1.007624</td>\n",
       "      <td>1.002203</td>\n",
       "      <td>0.989614</td>\n",
       "      <td>1.007948</td>\n",
       "    </tr>\n",
       "    <tr>\n",
       "      <th>2</th>\n",
       "      <td>0.993826</td>\n",
       "      <td>1.004450</td>\n",
       "      <td>1.016389</td>\n",
       "      <td>1.004532</td>\n",
       "      <td>1.000939</td>\n",
       "      <td>1.007972</td>\n",
       "      <td>1.006110</td>\n",
       "      <td>1.002417</td>\n",
       "      <td>0.997963</td>\n",
       "      <td>1.003173</td>\n",
       "      <td>...</td>\n",
       "      <td>1.001212</td>\n",
       "      <td>0.996153</td>\n",
       "      <td>0.993635</td>\n",
       "      <td>1.007276</td>\n",
       "      <td>1.002138</td>\n",
       "      <td>0.997534</td>\n",
       "      <td>1.006990</td>\n",
       "      <td>0.999733</td>\n",
       "      <td>0.990527</td>\n",
       "      <td>1.005219</td>\n",
       "    </tr>\n",
       "    <tr>\n",
       "      <th>3</th>\n",
       "      <td>0.997926</td>\n",
       "      <td>1.000076</td>\n",
       "      <td>1.014909</td>\n",
       "      <td>1.005521</td>\n",
       "      <td>1.008839</td>\n",
       "      <td>1.012275</td>\n",
       "      <td>1.015475</td>\n",
       "      <td>1.001897</td>\n",
       "      <td>1.001616</td>\n",
       "      <td>1.001640</td>\n",
       "      <td>...</td>\n",
       "      <td>0.996236</td>\n",
       "      <td>1.000188</td>\n",
       "      <td>0.993314</td>\n",
       "      <td>1.004328</td>\n",
       "      <td>1.008197</td>\n",
       "      <td>1.004057</td>\n",
       "      <td>1.011890</td>\n",
       "      <td>0.996306</td>\n",
       "      <td>0.992775</td>\n",
       "      <td>1.001922</td>\n",
       "    </tr>\n",
       "    <tr>\n",
       "      <th>4</th>\n",
       "      <td>0.994518</td>\n",
       "      <td>1.003626</td>\n",
       "      <td>1.003270</td>\n",
       "      <td>1.004409</td>\n",
       "      <td>0.998659</td>\n",
       "      <td>1.010225</td>\n",
       "      <td>1.008689</td>\n",
       "      <td>1.005704</td>\n",
       "      <td>0.995175</td>\n",
       "      <td>1.009462</td>\n",
       "      <td>...</td>\n",
       "      <td>0.994646</td>\n",
       "      <td>0.991765</td>\n",
       "      <td>1.005683</td>\n",
       "      <td>1.012236</td>\n",
       "      <td>0.993119</td>\n",
       "      <td>1.008332</td>\n",
       "      <td>1.002999</td>\n",
       "      <td>0.994061</td>\n",
       "      <td>0.995828</td>\n",
       "      <td>1.013328</td>\n",
       "    </tr>\n",
       "    <tr>\n",
       "      <th>...</th>\n",
       "      <td>...</td>\n",
       "      <td>...</td>\n",
       "      <td>...</td>\n",
       "      <td>...</td>\n",
       "      <td>...</td>\n",
       "      <td>...</td>\n",
       "      <td>...</td>\n",
       "      <td>...</td>\n",
       "      <td>...</td>\n",
       "      <td>...</td>\n",
       "      <td>...</td>\n",
       "      <td>...</td>\n",
       "      <td>...</td>\n",
       "      <td>...</td>\n",
       "      <td>...</td>\n",
       "      <td>...</td>\n",
       "      <td>...</td>\n",
       "      <td>...</td>\n",
       "      <td>...</td>\n",
       "      <td>...</td>\n",
       "      <td>...</td>\n",
       "    </tr>\n",
       "    <tr>\n",
       "      <th>7556</th>\n",
       "      <td>15.685543</td>\n",
       "      <td>12.986929</td>\n",
       "      <td>8.616215</td>\n",
       "      <td>15.231881</td>\n",
       "      <td>9.245984</td>\n",
       "      <td>15.940172</td>\n",
       "      <td>15.061811</td>\n",
       "      <td>16.713044</td>\n",
       "      <td>19.661004</td>\n",
       "      <td>11.944889</td>\n",
       "      <td>...</td>\n",
       "      <td>7.593492</td>\n",
       "      <td>23.306645</td>\n",
       "      <td>9.715724</td>\n",
       "      <td>29.183111</td>\n",
       "      <td>12.516506</td>\n",
       "      <td>12.571085</td>\n",
       "      <td>4.709953</td>\n",
       "      <td>5.442801</td>\n",
       "      <td>5.877659</td>\n",
       "      <td>6.398388</td>\n",
       "    </tr>\n",
       "    <tr>\n",
       "      <th>7557</th>\n",
       "      <td>15.701618</td>\n",
       "      <td>13.022591</td>\n",
       "      <td>8.681724</td>\n",
       "      <td>15.223381</td>\n",
       "      <td>9.228977</td>\n",
       "      <td>15.869513</td>\n",
       "      <td>14.920079</td>\n",
       "      <td>16.602009</td>\n",
       "      <td>19.803356</td>\n",
       "      <td>11.875146</td>\n",
       "      <td>...</td>\n",
       "      <td>7.616274</td>\n",
       "      <td>23.282491</td>\n",
       "      <td>9.790456</td>\n",
       "      <td>29.237743</td>\n",
       "      <td>12.533484</td>\n",
       "      <td>12.502700</td>\n",
       "      <td>4.678929</td>\n",
       "      <td>5.482032</td>\n",
       "      <td>5.830203</td>\n",
       "      <td>6.365883</td>\n",
       "    </tr>\n",
       "    <tr>\n",
       "      <th>7558</th>\n",
       "      <td>15.775965</td>\n",
       "      <td>13.030077</td>\n",
       "      <td>8.644956</td>\n",
       "      <td>15.193240</td>\n",
       "      <td>9.234191</td>\n",
       "      <td>15.761192</td>\n",
       "      <td>14.971931</td>\n",
       "      <td>16.611704</td>\n",
       "      <td>19.766362</td>\n",
       "      <td>11.859319</td>\n",
       "      <td>...</td>\n",
       "      <td>7.526627</td>\n",
       "      <td>23.318285</td>\n",
       "      <td>9.806777</td>\n",
       "      <td>29.507147</td>\n",
       "      <td>12.571418</td>\n",
       "      <td>12.503066</td>\n",
       "      <td>4.641135</td>\n",
       "      <td>5.489367</td>\n",
       "      <td>5.847963</td>\n",
       "      <td>6.351797</td>\n",
       "    </tr>\n",
       "    <tr>\n",
       "      <th>7559</th>\n",
       "      <td>15.942735</td>\n",
       "      <td>13.144516</td>\n",
       "      <td>8.772409</td>\n",
       "      <td>15.304622</td>\n",
       "      <td>9.296688</td>\n",
       "      <td>15.647762</td>\n",
       "      <td>15.066340</td>\n",
       "      <td>16.629725</td>\n",
       "      <td>19.876849</td>\n",
       "      <td>11.849380</td>\n",
       "      <td>...</td>\n",
       "      <td>7.532326</td>\n",
       "      <td>23.455898</td>\n",
       "      <td>9.802992</td>\n",
       "      <td>29.042523</td>\n",
       "      <td>12.697311</td>\n",
       "      <td>12.623697</td>\n",
       "      <td>4.677289</td>\n",
       "      <td>5.518962</td>\n",
       "      <td>5.835253</td>\n",
       "      <td>6.352925</td>\n",
       "    </tr>\n",
       "    <tr>\n",
       "      <th>7560</th>\n",
       "      <td>15.912193</td>\n",
       "      <td>13.330446</td>\n",
       "      <td>8.654477</td>\n",
       "      <td>15.256028</td>\n",
       "      <td>9.244632</td>\n",
       "      <td>15.688232</td>\n",
       "      <td>14.942969</td>\n",
       "      <td>16.711385</td>\n",
       "      <td>19.886044</td>\n",
       "      <td>11.923647</td>\n",
       "      <td>...</td>\n",
       "      <td>7.454060</td>\n",
       "      <td>23.465421</td>\n",
       "      <td>9.830487</td>\n",
       "      <td>28.975453</td>\n",
       "      <td>12.589054</td>\n",
       "      <td>12.679929</td>\n",
       "      <td>4.679929</td>\n",
       "      <td>5.457492</td>\n",
       "      <td>5.727984</td>\n",
       "      <td>6.327174</td>\n",
       "    </tr>\n",
       "  </tbody>\n",
       "</table>\n",
       "<p>7561 rows × 500 columns</p>\n",
       "</div>"
      ],
      "text/plain": [
       "            0          1         2          3         4          5    \\\n",
       "0      1.000000   1.000000  1.000000   1.000000  1.000000   1.000000   \n",
       "1      1.004681   1.000363  1.011933   1.002089  0.997240   1.002814   \n",
       "2      0.993826   1.004450  1.016389   1.004532  1.000939   1.007972   \n",
       "3      0.997926   1.000076  1.014909   1.005521  1.008839   1.012275   \n",
       "4      0.994518   1.003626  1.003270   1.004409  0.998659   1.010225   \n",
       "...         ...        ...       ...        ...       ...        ...   \n",
       "7556  15.685543  12.986929  8.616215  15.231881  9.245984  15.940172   \n",
       "7557  15.701618  13.022591  8.681724  15.223381  9.228977  15.869513   \n",
       "7558  15.775965  13.030077  8.644956  15.193240  9.234191  15.761192   \n",
       "7559  15.942735  13.144516  8.772409  15.304622  9.296688  15.647762   \n",
       "7560  15.912193  13.330446  8.654477  15.256028  9.244632  15.688232   \n",
       "\n",
       "            6          7          8          9    ...       490        491  \\\n",
       "0      1.000000   1.000000   1.000000   1.000000  ...  1.000000   1.000000   \n",
       "1      1.008431   1.002004   0.998905   1.007254  ...  1.006672   1.005280   \n",
       "2      1.006110   1.002417   0.997963   1.003173  ...  1.001212   0.996153   \n",
       "3      1.015475   1.001897   1.001616   1.001640  ...  0.996236   1.000188   \n",
       "4      1.008689   1.005704   0.995175   1.009462  ...  0.994646   0.991765   \n",
       "...         ...        ...        ...        ...  ...       ...        ...   \n",
       "7556  15.061811  16.713044  19.661004  11.944889  ...  7.593492  23.306645   \n",
       "7557  14.920079  16.602009  19.803356  11.875146  ...  7.616274  23.282491   \n",
       "7558  14.971931  16.611704  19.766362  11.859319  ...  7.526627  23.318285   \n",
       "7559  15.066340  16.629725  19.876849  11.849380  ...  7.532326  23.455898   \n",
       "7560  14.942969  16.711385  19.886044  11.923647  ...  7.454060  23.465421   \n",
       "\n",
       "           492        493        494        495       496       497       498  \\\n",
       "0     1.000000   1.000000   1.000000   1.000000  1.000000  1.000000  1.000000   \n",
       "1     0.996710   1.008463   1.001794   0.998977  1.007624  1.002203  0.989614   \n",
       "2     0.993635   1.007276   1.002138   0.997534  1.006990  0.999733  0.990527   \n",
       "3     0.993314   1.004328   1.008197   1.004057  1.011890  0.996306  0.992775   \n",
       "4     1.005683   1.012236   0.993119   1.008332  1.002999  0.994061  0.995828   \n",
       "...        ...        ...        ...        ...       ...       ...       ...   \n",
       "7556  9.715724  29.183111  12.516506  12.571085  4.709953  5.442801  5.877659   \n",
       "7557  9.790456  29.237743  12.533484  12.502700  4.678929  5.482032  5.830203   \n",
       "7558  9.806777  29.507147  12.571418  12.503066  4.641135  5.489367  5.847963   \n",
       "7559  9.802992  29.042523  12.697311  12.623697  4.677289  5.518962  5.835253   \n",
       "7560  9.830487  28.975453  12.589054  12.679929  4.679929  5.457492  5.727984   \n",
       "\n",
       "           499  \n",
       "0     1.000000  \n",
       "1     1.007948  \n",
       "2     1.005219  \n",
       "3     1.001922  \n",
       "4     1.013328  \n",
       "...        ...  \n",
       "7556  6.398388  \n",
       "7557  6.365883  \n",
       "7558  6.351797  \n",
       "7559  6.352925  \n",
       "7560  6.327174  \n",
       "\n",
       "[7561 rows x 500 columns]"
      ]
     },
     "execution_count": 36,
     "metadata": {},
     "output_type": "execute_result"
    }
   ],
   "source": [
    "# Run the Monte Carlo simulation to forecast 30 years cumulative returns\n",
    "MC_thirty_years.calc_cumulative_return()\n"
   ]
  },
  {
   "cell_type": "code",
   "execution_count": 37,
   "metadata": {},
   "outputs": [
    {
     "data": {
      "image/png": "[encoded data removed]",
      "text/plain": [
       "<Figure size 432x288 with 1 Axes>"
      ]
     },
     "metadata": {
      "needs_background": "light"
     },
     "output_type": "display_data"
    }
   ],
   "source": [
    "# Visualize the 30-year Monte Carlo simulation by creating an\n",
    "MC_sim_line_plot = MC_thirty_years.plot_simulation()\n",
    "\n",
    "MC_sim_line_plot.get_figure().savefig(\"MC_thirty_years_sim_plot.png\", bbox_inches=\"tight\")\n",
    "\n"
   ]
  },
  {
   "cell_type": "markdown",
   "metadata": {},
   "source": [
    "#### Step 3: Plot the probability distribution of the Monte Carlo simulation."
   ]
  },
  {
   "cell_type": "code",
   "execution_count": 38,
   "metadata": {},
   "outputs": [
    {
     "data": {
      "text/plain": [
       "<AxesSubplot:title={'center':'Distribution of Final Cumuluative Returns Across All 500 Simulations'}, ylabel='Frequency'>"
      ]
     },
     "execution_count": 38,
     "metadata": {},
     "output_type": "execute_result"
    },
    {
     "data": {
      "image/png": "[encoded data removed]",
      "text/plain": [
       "<Figure size 432x288 with 1 Axes>"
      ]
     },
     "metadata": {
      "needs_background": "light"
     },
     "output_type": "display_data"
    }
   ],
   "source": [
    "# Visualize the probability distribution of the 30-year Monte Carlo simulation \n",
    "# by plotting a histogram\n",
    "\n",
    "even_weight_distribution_plot = MC_thirty_years.plot_distribution()\n",
    "MC_thirty_years.plot_distribution()"
   ]
  },
  {
   "cell_type": "markdown",
   "metadata": {},
   "source": [
    "#### Step 4: Generate the summary statistics for the Monte Carlo simulation."
   ]
  },
  {
   "cell_type": "code",
   "execution_count": 39,
   "metadata": {},
   "outputs": [
    {
     "data": {
      "text/plain": [
       "count           500.000000\n",
       "mean             14.928319\n",
       "std               8.781947\n",
       "min               3.192302\n",
       "25%               9.241114\n",
       "50%              12.687069\n",
       "75%              18.194799\n",
       "max              74.544356\n",
       "95% CI Lower      5.122257\n",
       "95% CI Upper     36.248213\n",
       "Name: 7560, dtype: float64"
      ]
     },
     "execution_count": 39,
     "metadata": {},
     "output_type": "execute_result"
    }
   ],
   "source": [
    "# Generate summary statistics from the 30-year Monte Carlo simulation results\n",
    "# Save the results as a variable. \n",
    "even_weight_table = MC_thirty_years.summarize_cumulative_return()\n",
    "\n",
    "\n",
    "# Review the 30-year Monte Carlo summary statistics\n",
    "even_weight_table"
   ]
  },
  {
   "cell_type": "markdown",
   "metadata": {},
   "source": [
    "### Analyze the Retirement Portfolio Forecasts\n",
    "\n",
    "Using the current value of only the stock and bond portion of the member's portfolio and the summary statistics that you generated from the Monte Carlo simulation, answer the following question in your Jupyter notebook:\n",
    "\n",
    "-  What are the lower and upper bounds for the expected value of the portfolio with a 95% confidence interval?\n"
   ]
  },
  {
   "cell_type": "code",
   "execution_count": 40,
   "metadata": {},
   "outputs": [
    {
     "name": "stdout",
     "output_type": "stream",
     "text": [
      "$12_000\n",
      "The stock percentage is 60% and the bond percentage is 40%\n"
     ]
    }
   ],
   "source": [
    "# Print the current balance of the stock and bond portion of the members portfolio\n",
    "\n",
    "print(\"$12_000\")\n",
    "\n",
    "print(\"The stock percentage is 60% and the bond percentage is 40%\")"
   ]
  },
  {
   "cell_type": "code",
   "execution_count": 41,
   "metadata": {},
   "outputs": [
    {
     "name": "stdout",
     "output_type": "stream",
     "text": [
      "There is a 95% chance that an initial investment of $12,000 in the portfolio with an even weight portfolio over the next 30 years will end within in the range of $61467.08 and $434978.55.\n"
     ]
    }
   ],
   "source": [
    "# Use the lower and upper `95%` confidence intervals \n",
    "#to calculate the range of the possible outcomes for \n",
    "# the current stock/bond portfolio\n",
    "\n",
    "ci_lower_thirty_cumulative_return = round(even_weight_table[8]*12000,2)\n",
    "ci_upper_thirty_cumulative_return = round(even_weight_table[9]*12000,2)\n",
    "\n",
    "# Print the result of your calculations\n",
    "print(f\"There is a 95% chance that an initial investment of $12,000 in the portfolio\"\n",
    "      f\" with an even weight portfolio over the next 30 years will end within in the range of\"\n",
    "      f\" ${ci_lower_thirty_cumulative_return} and ${ci_upper_thirty_cumulative_return}.\")\n",
    "\n",
    "\n"
   ]
  },
  {
   "cell_type": "markdown",
   "metadata": {},
   "source": [
    "### Forecast Cumulative Returns in 10 Years\n",
    "\n",
    "The CTO of the credit union is impressed with your work on these planning tools but wonders if 30 years is a long time to wait until retirement. So, your next task is to adjust the retirement portfolio and run a new Monte Carlo simulation to find out if the changes will allow members to retire earlier.\n",
    "\n",
    "For this new Monte Carlo simulation, do the following: \n",
    "\n",
    "- Forecast the cumulative returns for 10 years from now. Because of the shortened investment horizon (30 years to 10 years), the portfolio needs to invest more heavily in the riskier asset&mdash;that is, stock&mdash;to help accumulate wealth for retirement. \n",
    "\n",
    "- Adjust the weights of the retirement portfolio so that the composition for the Monte Carlo simulation consists of 20% bonds and 80% stocks. \n",
    "\n",
    "- Run the simulation over 500 samples, and use the same data that the API call to Alpaca generated.\n",
    "\n",
    "- Based on the new Monte Carlo simulation, answer the following questions in your Jupyter notebook:\n",
    "\n",
    "    - Using the current value of only the stock and bond portion of the member's portfolio and the summary statistics that you generated from the new Monte Carlo simulation, what are the lower and upper bounds for the expected value of the portfolio (with the new weights) with a 95% confidence interval?\n",
    "\n",
    "    - Will weighting the portfolio more heavily toward stocks allow the credit union members to retire after only 10 years?\n"
   ]
  },
  {
   "cell_type": "code",
   "execution_count": 42,
   "metadata": {},
   "outputs": [
    {
     "data": {
      "text/html": [
       "<div>\n",
       "<style scoped>\n",
       "    .dataframe tbody tr th:only-of-type {\n",
       "        vertical-align: middle;\n",
       "    }\n",
       "\n",
       "    .dataframe tbody tr th {\n",
       "        vertical-align: top;\n",
       "    }\n",
       "\n",
       "    .dataframe thead tr th {\n",
       "        text-align: left;\n",
       "    }\n",
       "\n",
       "    .dataframe thead tr:last-of-type th {\n",
       "        text-align: right;\n",
       "    }\n",
       "</style>\n",
       "<table border=\"1\" class=\"dataframe\">\n",
       "  <thead>\n",
       "    <tr>\n",
       "      <th></th>\n",
       "      <th colspan=\"6\" halign=\"left\">AGG</th>\n",
       "      <th colspan=\"6\" halign=\"left\">SPY</th>\n",
       "    </tr>\n",
       "    <tr>\n",
       "      <th></th>\n",
       "      <th>open</th>\n",
       "      <th>high</th>\n",
       "      <th>low</th>\n",
       "      <th>close</th>\n",
       "      <th>volume</th>\n",
       "      <th>daily_return</th>\n",
       "      <th>open</th>\n",
       "      <th>high</th>\n",
       "      <th>low</th>\n",
       "      <th>close</th>\n",
       "      <th>volume</th>\n",
       "      <th>daily_return</th>\n",
       "    </tr>\n",
       "    <tr>\n",
       "      <th>time</th>\n",
       "      <th></th>\n",
       "      <th></th>\n",
       "      <th></th>\n",
       "      <th></th>\n",
       "      <th></th>\n",
       "      <th></th>\n",
       "      <th></th>\n",
       "      <th></th>\n",
       "      <th></th>\n",
       "      <th></th>\n",
       "      <th></th>\n",
       "      <th></th>\n",
       "    </tr>\n",
       "  </thead>\n",
       "  <tbody>\n",
       "    <tr>\n",
       "      <th>2018-08-13 00:00:00-04:00</th>\n",
       "      <td>106.16</td>\n",
       "      <td>106.300</td>\n",
       "      <td>106.1501</td>\n",
       "      <td>106.285</td>\n",
       "      <td>2558386</td>\n",
       "      <td>NaN</td>\n",
       "      <td>283.47</td>\n",
       "      <td>284.1600</td>\n",
       "      <td>281.7700</td>\n",
       "      <td>282.05</td>\n",
       "      <td>49247799</td>\n",
       "      <td>NaN</td>\n",
       "    </tr>\n",
       "    <tr>\n",
       "      <th>2018-08-14 00:00:00-04:00</th>\n",
       "      <td>106.30</td>\n",
       "      <td>106.330</td>\n",
       "      <td>106.1600</td>\n",
       "      <td>106.190</td>\n",
       "      <td>3862629</td>\n",
       "      <td>-0.000894</td>\n",
       "      <td>282.92</td>\n",
       "      <td>284.1700</td>\n",
       "      <td>282.4833</td>\n",
       "      <td>283.86</td>\n",
       "      <td>32906829</td>\n",
       "      <td>0.006417</td>\n",
       "    </tr>\n",
       "    <tr>\n",
       "      <th>2018-08-15 00:00:00-04:00</th>\n",
       "      <td>106.29</td>\n",
       "      <td>106.440</td>\n",
       "      <td>106.2500</td>\n",
       "      <td>106.335</td>\n",
       "      <td>4093893</td>\n",
       "      <td>0.001365</td>\n",
       "      <td>282.38</td>\n",
       "      <td>282.5400</td>\n",
       "      <td>280.1600</td>\n",
       "      <td>281.76</td>\n",
       "      <td>76384638</td>\n",
       "      <td>-0.007398</td>\n",
       "    </tr>\n",
       "    <tr>\n",
       "      <th>2018-08-16 00:00:00-04:00</th>\n",
       "      <td>106.38</td>\n",
       "      <td>106.420</td>\n",
       "      <td>106.2400</td>\n",
       "      <td>106.390</td>\n",
       "      <td>2135827</td>\n",
       "      <td>0.000517</td>\n",
       "      <td>283.40</td>\n",
       "      <td>285.0400</td>\n",
       "      <td>283.3600</td>\n",
       "      <td>284.10</td>\n",
       "      <td>49048421</td>\n",
       "      <td>0.008305</td>\n",
       "    </tr>\n",
       "    <tr>\n",
       "      <th>2018-08-17 00:00:00-04:00</th>\n",
       "      <td>106.43</td>\n",
       "      <td>106.545</td>\n",
       "      <td>106.3800</td>\n",
       "      <td>106.460</td>\n",
       "      <td>1915186</td>\n",
       "      <td>0.000658</td>\n",
       "      <td>283.83</td>\n",
       "      <td>285.5601</td>\n",
       "      <td>283.3700</td>\n",
       "      <td>285.02</td>\n",
       "      <td>43630918</td>\n",
       "      <td>0.003238</td>\n",
       "    </tr>\n",
       "  </tbody>\n",
       "</table>\n",
       "</div>"
      ],
      "text/plain": [
       "                              AGG                                       \\\n",
       "                             open     high       low    close   volume   \n",
       "time                                                                     \n",
       "2018-08-13 00:00:00-04:00  106.16  106.300  106.1501  106.285  2558386   \n",
       "2018-08-14 00:00:00-04:00  106.30  106.330  106.1600  106.190  3862629   \n",
       "2018-08-15 00:00:00-04:00  106.29  106.440  106.2500  106.335  4093893   \n",
       "2018-08-16 00:00:00-04:00  106.38  106.420  106.2400  106.390  2135827   \n",
       "2018-08-17 00:00:00-04:00  106.43  106.545  106.3800  106.460  1915186   \n",
       "\n",
       "                                           SPY                              \\\n",
       "                          daily_return    open      high       low   close   \n",
       "time                                                                         \n",
       "2018-08-13 00:00:00-04:00          NaN  283.47  284.1600  281.7700  282.05   \n",
       "2018-08-14 00:00:00-04:00    -0.000894  282.92  284.1700  282.4833  283.86   \n",
       "2018-08-15 00:00:00-04:00     0.001365  282.38  282.5400  280.1600  281.76   \n",
       "2018-08-16 00:00:00-04:00     0.000517  283.40  285.0400  283.3600  284.10   \n",
       "2018-08-17 00:00:00-04:00     0.000658  283.83  285.5601  283.3700  285.02   \n",
       "\n",
       "                                                  \n",
       "                             volume daily_return  \n",
       "time                                              \n",
       "2018-08-13 00:00:00-04:00  49247799          NaN  \n",
       "2018-08-14 00:00:00-04:00  32906829     0.006417  \n",
       "2018-08-15 00:00:00-04:00  76384638    -0.007398  \n",
       "2018-08-16 00:00:00-04:00  49048421     0.008305  \n",
       "2018-08-17 00:00:00-04:00  43630918     0.003238  "
      ]
     },
     "execution_count": 42,
     "metadata": {},
     "output_type": "execute_result"
    }
   ],
   "source": [
    "# Configure a Monte Carlo simulation to forecast 10 years cumulative returns\n",
    "# The weights should be split 20% to AGG and 80% to SPY.\n",
    "# Run 500 samples.\n",
    "MC_ten_years = MCSimulation(\n",
    "  portfolio_data = prices_df,\n",
    "  weights = [.80,.20],\n",
    "  num_simulation = 500,\n",
    "  num_trading_days = 252*10\n",
    ")\n",
    "\n",
    "\n",
    "MC_ten_years.portfolio_data.head()"
   ]
  },
  {
   "cell_type": "code",
   "execution_count": 43,
   "metadata": {},
   "outputs": [
    {
     "name": "stdout",
     "output_type": "stream",
     "text": [
      "Running Monte Carlo simulation number 0.\n",
      "Running Monte Carlo simulation number 10.\n",
      "Running Monte Carlo simulation number 20.\n",
      "Running Monte Carlo simulation number 30.\n",
      "Running Monte Carlo simulation number 40.\n",
      "Running Monte Carlo simulation number 50.\n",
      "Running Monte Carlo simulation number 60.\n",
      "Running Monte Carlo simulation number 70.\n",
      "Running Monte Carlo simulation number 80.\n",
      "Running Monte Carlo simulation number 90.\n",
      "Running Monte Carlo simulation number 100.\n",
      "Running Monte Carlo simulation number 110.\n",
      "Running Monte Carlo simulation number 120.\n",
      "Running Monte Carlo simulation number 130.\n",
      "Running Monte Carlo simulation number 140.\n",
      "Running Monte Carlo simulation number 150.\n",
      "Running Monte Carlo simulation number 160.\n",
      "Running Monte Carlo simulation number 170.\n",
      "Running Monte Carlo simulation number 180.\n",
      "Running Monte Carlo simulation number 190.\n",
      "Running Monte Carlo simulation number 200.\n",
      "Running Monte Carlo simulation number 210.\n",
      "Running Monte Carlo simulation number 220.\n",
      "Running Monte Carlo simulation number 230.\n",
      "Running Monte Carlo simulation number 240.\n",
      "Running Monte Carlo simulation number 250.\n",
      "Running Monte Carlo simulation number 260.\n",
      "Running Monte Carlo simulation number 270.\n",
      "Running Monte Carlo simulation number 280.\n",
      "Running Monte Carlo simulation number 290.\n",
      "Running Monte Carlo simulation number 300.\n",
      "Running Monte Carlo simulation number 310.\n",
      "Running Monte Carlo simulation number 320.\n",
      "Running Monte Carlo simulation number 330.\n",
      "Running Monte Carlo simulation number 340.\n",
      "Running Monte Carlo simulation number 350.\n",
      "Running Monte Carlo simulation number 360.\n",
      "Running Monte Carlo simulation number 370.\n",
      "Running Monte Carlo simulation number 380.\n",
      "Running Monte Carlo simulation number 390.\n",
      "Running Monte Carlo simulation number 400.\n",
      "Running Monte Carlo simulation number 410.\n",
      "Running Monte Carlo simulation number 420.\n",
      "Running Monte Carlo simulation number 430.\n",
      "Running Monte Carlo simulation number 440.\n",
      "Running Monte Carlo simulation number 450.\n",
      "Running Monte Carlo simulation number 460.\n",
      "Running Monte Carlo simulation number 470.\n",
      "Running Monte Carlo simulation number 480.\n",
      "Running Monte Carlo simulation number 490.\n"
     ]
    },
    {
     "data": {
      "text/html": [
       "<div>\n",
       "<style scoped>\n",
       "    .dataframe tbody tr th:only-of-type {\n",
       "        vertical-align: middle;\n",
       "    }\n",
       "\n",
       "    .dataframe tbody tr th {\n",
       "        vertical-align: top;\n",
       "    }\n",
       "\n",
       "    .dataframe thead th {\n",
       "        text-align: right;\n",
       "    }\n",
       "</style>\n",
       "<table border=\"1\" class=\"dataframe\">\n",
       "  <thead>\n",
       "    <tr style=\"text-align: right;\">\n",
       "      <th></th>\n",
       "      <th>0</th>\n",
       "      <th>1</th>\n",
       "      <th>2</th>\n",
       "      <th>3</th>\n",
       "      <th>4</th>\n",
       "      <th>5</th>\n",
       "      <th>6</th>\n",
       "      <th>7</th>\n",
       "      <th>8</th>\n",
       "      <th>9</th>\n",
       "      <th>...</th>\n",
       "      <th>490</th>\n",
       "      <th>491</th>\n",
       "      <th>492</th>\n",
       "      <th>493</th>\n",
       "      <th>494</th>\n",
       "      <th>495</th>\n",
       "      <th>496</th>\n",
       "      <th>497</th>\n",
       "      <th>498</th>\n",
       "      <th>499</th>\n",
       "    </tr>\n",
       "  </thead>\n",
       "  <tbody>\n",
       "    <tr>\n",
       "      <th>0</th>\n",
       "      <td>1.000000</td>\n",
       "      <td>1.000000</td>\n",
       "      <td>1.000000</td>\n",
       "      <td>1.000000</td>\n",
       "      <td>1.000000</td>\n",
       "      <td>1.000000</td>\n",
       "      <td>1.000000</td>\n",
       "      <td>1.000000</td>\n",
       "      <td>1.000000</td>\n",
       "      <td>1.000000</td>\n",
       "      <td>...</td>\n",
       "      <td>1.000000</td>\n",
       "      <td>1.000000</td>\n",
       "      <td>1.000000</td>\n",
       "      <td>1.000000</td>\n",
       "      <td>1.000000</td>\n",
       "      <td>1.000000</td>\n",
       "      <td>1.000000</td>\n",
       "      <td>1.000000</td>\n",
       "      <td>1.000000</td>\n",
       "      <td>1.000000</td>\n",
       "    </tr>\n",
       "    <tr>\n",
       "      <th>1</th>\n",
       "      <td>1.004563</td>\n",
       "      <td>1.003118</td>\n",
       "      <td>1.003738</td>\n",
       "      <td>1.000297</td>\n",
       "      <td>0.996149</td>\n",
       "      <td>0.992457</td>\n",
       "      <td>1.004571</td>\n",
       "      <td>1.000437</td>\n",
       "      <td>0.999350</td>\n",
       "      <td>0.998155</td>\n",
       "      <td>...</td>\n",
       "      <td>1.003733</td>\n",
       "      <td>1.003745</td>\n",
       "      <td>0.994426</td>\n",
       "      <td>0.992368</td>\n",
       "      <td>1.006554</td>\n",
       "      <td>0.993829</td>\n",
       "      <td>0.997727</td>\n",
       "      <td>0.992829</td>\n",
       "      <td>1.003369</td>\n",
       "      <td>1.002676</td>\n",
       "    </tr>\n",
       "    <tr>\n",
       "      <th>2</th>\n",
       "      <td>1.009928</td>\n",
       "      <td>1.005022</td>\n",
       "      <td>1.001888</td>\n",
       "      <td>1.000897</td>\n",
       "      <td>1.004465</td>\n",
       "      <td>0.994584</td>\n",
       "      <td>1.005605</td>\n",
       "      <td>0.998591</td>\n",
       "      <td>1.003856</td>\n",
       "      <td>1.003023</td>\n",
       "      <td>...</td>\n",
       "      <td>1.000815</td>\n",
       "      <td>1.001630</td>\n",
       "      <td>0.992723</td>\n",
       "      <td>0.992022</td>\n",
       "      <td>1.016858</td>\n",
       "      <td>0.993897</td>\n",
       "      <td>0.999798</td>\n",
       "      <td>0.991319</td>\n",
       "      <td>1.000925</td>\n",
       "      <td>0.994428</td>\n",
       "    </tr>\n",
       "    <tr>\n",
       "      <th>3</th>\n",
       "      <td>1.012729</td>\n",
       "      <td>1.004277</td>\n",
       "      <td>1.009537</td>\n",
       "      <td>0.997385</td>\n",
       "      <td>1.002159</td>\n",
       "      <td>1.002019</td>\n",
       "      <td>1.006392</td>\n",
       "      <td>1.001553</td>\n",
       "      <td>1.002052</td>\n",
       "      <td>1.008045</td>\n",
       "      <td>...</td>\n",
       "      <td>0.998131</td>\n",
       "      <td>1.002421</td>\n",
       "      <td>0.987594</td>\n",
       "      <td>0.994852</td>\n",
       "      <td>1.020084</td>\n",
       "      <td>0.995383</td>\n",
       "      <td>1.002372</td>\n",
       "      <td>0.981963</td>\n",
       "      <td>1.010299</td>\n",
       "      <td>0.993739</td>\n",
       "    </tr>\n",
       "    <tr>\n",
       "      <th>4</th>\n",
       "      <td>1.020825</td>\n",
       "      <td>1.001071</td>\n",
       "      <td>1.008571</td>\n",
       "      <td>1.002777</td>\n",
       "      <td>1.005238</td>\n",
       "      <td>1.005395</td>\n",
       "      <td>1.010985</td>\n",
       "      <td>0.997845</td>\n",
       "      <td>1.000441</td>\n",
       "      <td>1.009465</td>\n",
       "      <td>...</td>\n",
       "      <td>0.999781</td>\n",
       "      <td>0.998354</td>\n",
       "      <td>0.989643</td>\n",
       "      <td>0.995577</td>\n",
       "      <td>1.020423</td>\n",
       "      <td>0.999652</td>\n",
       "      <td>1.000109</td>\n",
       "      <td>0.991368</td>\n",
       "      <td>1.012787</td>\n",
       "      <td>0.998689</td>\n",
       "    </tr>\n",
       "    <tr>\n",
       "      <th>...</th>\n",
       "      <td>...</td>\n",
       "      <td>...</td>\n",
       "      <td>...</td>\n",
       "      <td>...</td>\n",
       "      <td>...</td>\n",
       "      <td>...</td>\n",
       "      <td>...</td>\n",
       "      <td>...</td>\n",
       "      <td>...</td>\n",
       "      <td>...</td>\n",
       "      <td>...</td>\n",
       "      <td>...</td>\n",
       "      <td>...</td>\n",
       "      <td>...</td>\n",
       "      <td>...</td>\n",
       "      <td>...</td>\n",
       "      <td>...</td>\n",
       "      <td>...</td>\n",
       "      <td>...</td>\n",
       "      <td>...</td>\n",
       "      <td>...</td>\n",
       "    </tr>\n",
       "    <tr>\n",
       "      <th>2516</th>\n",
       "      <td>1.619879</td>\n",
       "      <td>1.146281</td>\n",
       "      <td>1.880101</td>\n",
       "      <td>2.702598</td>\n",
       "      <td>2.065845</td>\n",
       "      <td>1.333092</td>\n",
       "      <td>1.542235</td>\n",
       "      <td>2.010893</td>\n",
       "      <td>1.334775</td>\n",
       "      <td>2.179986</td>\n",
       "      <td>...</td>\n",
       "      <td>1.519781</td>\n",
       "      <td>1.828722</td>\n",
       "      <td>1.463525</td>\n",
       "      <td>1.400351</td>\n",
       "      <td>1.710268</td>\n",
       "      <td>1.578012</td>\n",
       "      <td>1.598371</td>\n",
       "      <td>1.276120</td>\n",
       "      <td>1.647664</td>\n",
       "      <td>1.532728</td>\n",
       "    </tr>\n",
       "    <tr>\n",
       "      <th>2517</th>\n",
       "      <td>1.635770</td>\n",
       "      <td>1.150135</td>\n",
       "      <td>1.882153</td>\n",
       "      <td>2.670000</td>\n",
       "      <td>2.071556</td>\n",
       "      <td>1.326392</td>\n",
       "      <td>1.536039</td>\n",
       "      <td>2.021037</td>\n",
       "      <td>1.330537</td>\n",
       "      <td>2.172580</td>\n",
       "      <td>...</td>\n",
       "      <td>1.522046</td>\n",
       "      <td>1.833156</td>\n",
       "      <td>1.460606</td>\n",
       "      <td>1.389954</td>\n",
       "      <td>1.708671</td>\n",
       "      <td>1.582209</td>\n",
       "      <td>1.591705</td>\n",
       "      <td>1.273663</td>\n",
       "      <td>1.647977</td>\n",
       "      <td>1.530417</td>\n",
       "    </tr>\n",
       "    <tr>\n",
       "      <th>2518</th>\n",
       "      <td>1.624816</td>\n",
       "      <td>1.148691</td>\n",
       "      <td>1.868008</td>\n",
       "      <td>2.678649</td>\n",
       "      <td>2.087456</td>\n",
       "      <td>1.334507</td>\n",
       "      <td>1.539974</td>\n",
       "      <td>2.025016</td>\n",
       "      <td>1.331471</td>\n",
       "      <td>2.168763</td>\n",
       "      <td>...</td>\n",
       "      <td>1.531378</td>\n",
       "      <td>1.827227</td>\n",
       "      <td>1.460230</td>\n",
       "      <td>1.394313</td>\n",
       "      <td>1.702990</td>\n",
       "      <td>1.574493</td>\n",
       "      <td>1.595411</td>\n",
       "      <td>1.270879</td>\n",
       "      <td>1.653487</td>\n",
       "      <td>1.526880</td>\n",
       "    </tr>\n",
       "    <tr>\n",
       "      <th>2519</th>\n",
       "      <td>1.623230</td>\n",
       "      <td>1.143670</td>\n",
       "      <td>1.878993</td>\n",
       "      <td>2.679564</td>\n",
       "      <td>2.092978</td>\n",
       "      <td>1.334163</td>\n",
       "      <td>1.536327</td>\n",
       "      <td>2.025763</td>\n",
       "      <td>1.329597</td>\n",
       "      <td>2.160096</td>\n",
       "      <td>...</td>\n",
       "      <td>1.534994</td>\n",
       "      <td>1.826683</td>\n",
       "      <td>1.458686</td>\n",
       "      <td>1.399236</td>\n",
       "      <td>1.712459</td>\n",
       "      <td>1.579707</td>\n",
       "      <td>1.599375</td>\n",
       "      <td>1.280572</td>\n",
       "      <td>1.644759</td>\n",
       "      <td>1.528491</td>\n",
       "    </tr>\n",
       "    <tr>\n",
       "      <th>2520</th>\n",
       "      <td>1.626589</td>\n",
       "      <td>1.138216</td>\n",
       "      <td>1.886579</td>\n",
       "      <td>2.673591</td>\n",
       "      <td>2.084164</td>\n",
       "      <td>1.337024</td>\n",
       "      <td>1.518523</td>\n",
       "      <td>2.038958</td>\n",
       "      <td>1.330245</td>\n",
       "      <td>2.154272</td>\n",
       "      <td>...</td>\n",
       "      <td>1.532961</td>\n",
       "      <td>1.823007</td>\n",
       "      <td>1.452701</td>\n",
       "      <td>1.406085</td>\n",
       "      <td>1.714570</td>\n",
       "      <td>1.576818</td>\n",
       "      <td>1.608746</td>\n",
       "      <td>1.276961</td>\n",
       "      <td>1.641630</td>\n",
       "      <td>1.526875</td>\n",
       "    </tr>\n",
       "  </tbody>\n",
       "</table>\n",
       "<p>2521 rows × 500 columns</p>\n",
       "</div>"
      ],
      "text/plain": [
       "           0         1         2         3         4         5         6    \\\n",
       "0     1.000000  1.000000  1.000000  1.000000  1.000000  1.000000  1.000000   \n",
       "1     1.004563  1.003118  1.003738  1.000297  0.996149  0.992457  1.004571   \n",
       "2     1.009928  1.005022  1.001888  1.000897  1.004465  0.994584  1.005605   \n",
       "3     1.012729  1.004277  1.009537  0.997385  1.002159  1.002019  1.006392   \n",
       "4     1.020825  1.001071  1.008571  1.002777  1.005238  1.005395  1.010985   \n",
       "...        ...       ...       ...       ...       ...       ...       ...   \n",
       "2516  1.619879  1.146281  1.880101  2.702598  2.065845  1.333092  1.542235   \n",
       "2517  1.635770  1.150135  1.882153  2.670000  2.071556  1.326392  1.536039   \n",
       "2518  1.624816  1.148691  1.868008  2.678649  2.087456  1.334507  1.539974   \n",
       "2519  1.623230  1.143670  1.878993  2.679564  2.092978  1.334163  1.536327   \n",
       "2520  1.626589  1.138216  1.886579  2.673591  2.084164  1.337024  1.518523   \n",
       "\n",
       "           7         8         9    ...       490       491       492  \\\n",
       "0     1.000000  1.000000  1.000000  ...  1.000000  1.000000  1.000000   \n",
       "1     1.000437  0.999350  0.998155  ...  1.003733  1.003745  0.994426   \n",
       "2     0.998591  1.003856  1.003023  ...  1.000815  1.001630  0.992723   \n",
       "3     1.001553  1.002052  1.008045  ...  0.998131  1.002421  0.987594   \n",
       "4     0.997845  1.000441  1.009465  ...  0.999781  0.998354  0.989643   \n",
       "...        ...       ...       ...  ...       ...       ...       ...   \n",
       "2516  2.010893  1.334775  2.179986  ...  1.519781  1.828722  1.463525   \n",
       "2517  2.021037  1.330537  2.172580  ...  1.522046  1.833156  1.460606   \n",
       "2518  2.025016  1.331471  2.168763  ...  1.531378  1.827227  1.460230   \n",
       "2519  2.025763  1.329597  2.160096  ...  1.534994  1.826683  1.458686   \n",
       "2520  2.038958  1.330245  2.154272  ...  1.532961  1.823007  1.452701   \n",
       "\n",
       "           493       494       495       496       497       498       499  \n",
       "0     1.000000  1.000000  1.000000  1.000000  1.000000  1.000000  1.000000  \n",
       "1     0.992368  1.006554  0.993829  0.997727  0.992829  1.003369  1.002676  \n",
       "2     0.992022  1.016858  0.993897  0.999798  0.991319  1.000925  0.994428  \n",
       "3     0.994852  1.020084  0.995383  1.002372  0.981963  1.010299  0.993739  \n",
       "4     0.995577  1.020423  0.999652  1.000109  0.991368  1.012787  0.998689  \n",
       "...        ...       ...       ...       ...       ...       ...       ...  \n",
       "2516  1.400351  1.710268  1.578012  1.598371  1.276120  1.647664  1.532728  \n",
       "2517  1.389954  1.708671  1.582209  1.591705  1.273663  1.647977  1.530417  \n",
       "2518  1.394313  1.702990  1.574493  1.595411  1.270879  1.653487  1.526880  \n",
       "2519  1.399236  1.712459  1.579707  1.599375  1.280572  1.644759  1.528491  \n",
       "2520  1.406085  1.714570  1.576818  1.608746  1.276961  1.641630  1.526875  \n",
       "\n",
       "[2521 rows x 500 columns]"
      ]
     },
     "execution_count": 43,
     "metadata": {},
     "output_type": "execute_result"
    }
   ],
   "source": [
    "# Run the Monte Carlo simulation to forecast 10 years cumulative returns\n",
    "\n",
    "MC_ten_years.calc_cumulative_return()\n",
    "\n"
   ]
  },
  {
   "cell_type": "code",
   "execution_count": 44,
   "metadata": {},
   "outputs": [
    {
     "data": {
      "image/png": "[encoded data removed]",
      "text/plain": [
       "<Figure size 432x288 with 1 Axes>"
      ]
     },
     "metadata": {
      "needs_background": "light"
     },
     "output_type": "display_data"
    }
   ],
   "source": [
    "# Visualize the 10-year Monte Carlo simulation by creating an\n",
    "MC_sim_line_plot = MC_ten_years.plot_simulation()\n",
    "\n",
    "MC_sim_line_plot.get_figure().savefig(\"MC_ten_years_sim_plot.png\", bbox_inches=\"tight\")\n",
    "\n",
    "\n",
    "\n"
   ]
  },
  {
   "cell_type": "code",
   "execution_count": 45,
   "metadata": {},
   "outputs": [
    {
     "data": {
      "text/plain": [
       "<AxesSubplot:title={'center':'Distribution of Final Cumuluative Returns Across All 500 Simulations'}, ylabel='Frequency'>"
      ]
     },
     "execution_count": 45,
     "metadata": {},
     "output_type": "execute_result"
    },
    {
     "data": {
      "image/png": "[encoded data removed]",
      "text/plain": [
       "<Figure size 432x288 with 1 Axes>"
      ]
     },
     "metadata": {
      "needs_background": "light"
     },
     "output_type": "display_data"
    }
   ],
   "source": [
    "# Visualize the probability distribution of the 10-year Monte Carlo simulation \n",
    "# by plotting a histogram\n",
    "\n",
    "\n",
    "even_weight_distribution_plot = MC_ten_years.plot_distribution()\n",
    "MC_ten_years.plot_distribution()"
   ]
  },
  {
   "cell_type": "code",
   "execution_count": 46,
   "metadata": {},
   "outputs": [
    {
     "data": {
      "text/plain": [
       "count           500.000000\n",
       "mean              1.805471\n",
       "std               0.358641\n",
       "min               1.024079\n",
       "25%               1.555381\n",
       "50%               1.777532\n",
       "75%               2.003097\n",
       "max               3.339605\n",
       "95% CI Lower      1.204019\n",
       "95% CI Upper      2.679935\n",
       "Name: 2520, dtype: float64"
      ]
     },
     "execution_count": 46,
     "metadata": {},
     "output_type": "execute_result"
    }
   ],
   "source": [
    "# Generate summary statistics from the 10-year Monte Carlo simulation results\n",
    "# Save the results as a variable\n",
    "even_weight_table2 = MC_ten_years.summarize_cumulative_return()\n",
    "\n",
    "\n",
    "# Review the 10-year Monte Carlo summary statistics\n",
    "even_weight_table2"
   ]
  },
  {
   "cell_type": "markdown",
   "metadata": {},
   "source": [
    "### Answer the following questions:"
   ]
  },
  {
   "cell_type": "markdown",
   "metadata": {},
   "source": [
    "#### Question: Using the current value of only the stock and bond portion of the member's portfolio and the summary statistics that you generated from the new Monte Carlo simulation, what are the lower and upper bounds for the expected value of the portfolio (with the new weights) with a 95% confidence interval?"
   ]
  },
  {
   "cell_type": "code",
   "execution_count": 47,
   "metadata": {},
   "outputs": [
    {
     "name": "stdout",
     "output_type": "stream",
     "text": [
      "$12_000\n",
      "The stock percentage is 80% and the bond percentage is 20%\n"
     ]
    }
   ],
   "source": [
    "# Print the current balance of the stock and bond portion of the members portfolio\n",
    "\n",
    "print(\"$12_000\")\n",
    "\n",
    "print(\"The stock percentage is 80% and the bond percentage is 20%\")"
   ]
  },
  {
   "cell_type": "code",
   "execution_count": 48,
   "metadata": {},
   "outputs": [
    {
     "name": "stdout",
     "output_type": "stream",
     "text": [
      "There is a 95% chance that an initial investment of $12,000 in the portfolio with an even weight portfolio over the next 30 years will end within in the range of $14448.23 and $32159.22.\n"
     ]
    }
   ],
   "source": [
    "# Use the lower and upper `95%` confidence intervals to calculate the range of the possible outcomes for the current stock/bond portfolio\n",
    "ci_lower_ten_cumulative_return = round(even_weight_table2[8]*12000,2)\n",
    "ci_upper_ten_cumulative_return = round(even_weight_table2[9]*12000,2)\n",
    "\n",
    "# Print the result of your calculations\n",
    "print(f\"There is a 95% chance that an initial investment of $12,000 in the portfolio\"\n",
    "      f\" with an even weight portfolio over the next 30 years will end within in the range of\"\n",
    "      f\" ${ci_lower_ten_cumulative_return} and ${ci_upper_ten_cumulative_return}.\")\n",
    "\n"
   ]
  },
  {
   "cell_type": "markdown",
   "metadata": {},
   "source": [
    "#### Question: Will weighting the portfolio more heavily to stocks allow the credit union members to retire after only 10 years?"
   ]
  },
  {
   "cell_type": "raw",
   "metadata": {},
   "source": [
    "**Answer** # no in ten years will not be enough for retirement because at most the money will be 2.75 at least within the 95% CI. In which case it is unlikely that that will be enough to cover all the daily expenses."
   ]
  },
  {
   "cell_type": "code",
   "execution_count": null,
   "metadata": {},
   "outputs": [],
   "source": []
  }
 ],
 "metadata": {
  "kernelspec": {
   "display_name": "Python 3",
   "language": "python",
   "name": "python3"
  },
  "language_info": {
   "codemirror_mode": {
    "name": "ipython",
    "version": 3
   },
   "file_extension": ".py",
   "mimetype": "text/x-python",
   "name": "python",
   "nbconvert_exporter": "python",
   "pygments_lexer": "ipython3",
   "version": "3.8.8"
  }
 },
 "nbformat": 4,
 "nbformat_minor": 4
}
